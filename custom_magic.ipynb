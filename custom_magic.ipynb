{
 "cells": [
  {
   "cell_type": "code",
   "execution_count": null,
   "metadata": {},
   "outputs": [],
   "source": [
    "def run_docker(cmd, container=\"mongodb\"):\n",
    "    bashCommand = \"docker exec {} {}\".format(container, cmd)\n",
    "    import subprocess\n",
    "    process = subprocess.Popen(bashCommand.split(), stdout=subprocess.PIPE)\n",
    "    output, error = process.communicate()\n",
    "    if error is not None:\n",
    "        print(error)\n",
    "    else:\n",
    "        print(output.decode(\"utf-8\"))\n",
    "\n",
    "\n",
    "from IPython.core.magic import register_line_cell_magic\n",
    "def parse_command(in_cmd):\n",
    "    cmd = []\n",
    "    for cmd_line in in_cmd.split(\"\\n\"):\n",
    "        if not(len(cmd_line)==0 or ''.join(set(cmd_line)) == ' ' or cmd_line[0]=='#'):\n",
    "            cmd.append(cmd_line)\n",
    "    return(\"\\n\".join(cmd))\n",
    "\n",
    "@register_line_cell_magic\n",
    "def docker(line=None, cell=None):\n",
    "    val = cell if cell is not None else line\n",
    "    val = parse_command(val)\n",
    "    return(run_docker(val, line))"
   ]
  }
 ],
 "metadata": {
  "kernelspec": {
   "display_name": "Python 3",
   "language": "python",
   "name": "python3"
  },
  "language_info": {
   "codemirror_mode": {
    "name": "ipython",
    "version": 3
   },
   "file_extension": ".py",
   "mimetype": "text/x-python",
   "name": "python",
   "nbconvert_exporter": "python",
   "pygments_lexer": "ipython3"
  },
  "toc": {
   "nav_menu": {},
   "number_sections": true,
   "sideBar": true,
   "skip_h1_title": false,
   "title_cell": "Table of Contents",
   "title_sidebar": "Contents",
   "toc_cell": false,
   "toc_position": {},
   "toc_section_display": true,
   "toc_window_display": false
  },
  "varInspector": {
   "cols": {
    "lenName": 16,
    "lenType": 16,
    "lenVar": 40
   },
   "kernels_config": {
    "python": {
     "delete_cmd_postfix": "",
     "delete_cmd_prefix": "del ",
     "library": "var_list.py",
     "varRefreshCmd": "print(var_dic_list())"
    },
    "r": {
     "delete_cmd_postfix": ") ",
     "delete_cmd_prefix": "rm(",
     "library": "var_list.r",
     "varRefreshCmd": "cat(var_dic_list()) "
    }
   },
   "types_to_exclude": [
    "module",
    "function",
    "builtin_function_or_method",
    "instance",
    "_Feature"
   ],
   "window_display": false
  }
 },
 "nbformat": 4,
 "nbformat_minor": 2
}
