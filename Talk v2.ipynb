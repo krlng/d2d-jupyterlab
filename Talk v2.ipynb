{
 "cells": [
  {
   "cell_type": "markdown",
   "metadata": {
    "slideshow": {
     "slide_type": "slide"
    },
    "toc-hr-collapsed": false
   },
   "source": [
    "<div style=\"display: inline-block; float:left; width: 50%\">\n",
    "<img src=\"img/jupyter-logo.png\" width=\"300px\"/>\n",
    "</div>\n",
    "<div style=\"float: left; width: 50%\">\n",
    "    <h1>PyData Workflow mit Jupyter Lab</h1>\n",
    "    <h3>Meine Notizen zur nächsten Generation Notebooks</h3>\n",
    "    <div><br>\n",
    "    <p><cite>\"Finally a tool where I can do all my work. And yes, I have worked with Emacs.\"</cite> - <a href=\"https://medium.com/@boyanangelov/is-this-the-best-data-science-ide-jupyter-lab-review-fdd165470f13\">Boyan Angelov, Data Scientist @mindmatch.ai</a></p>\n",
    "    <p><cite>\"I’m extremely excited the potential of JupyterLab. I have a high level of confidence in the team who is making this possible\"</cite> - <a href=\"https://medium.com/@brianray_7981/jupyterlab-first-impressions-e6d70d8a175d\">Brian Ray</a></p>\n",
    "        </div>\n",
    "</div>"
   ]
  },
  {
   "cell_type": "markdown",
   "metadata": {
    "slideshow": {
     "slide_type": "subslide"
    }
   },
   "source": [
    "## Über den Autor\n",
    "\n",
    "![Some pic of me](https://raw.githubusercontent.com/krlng/krlng.github.io/master/images/me.png)\n",
    "\n",
    "**Nico Kreiling**\n",
    "* Data Scientist @ [inovex](https://www.inovex.de/de/)\n",
    "* Data Science, Hadoop, Kubernetes, Cloud\n",
    "* Tech-Podcast für Entwickler: [inoTecCast](https://inoteccast.de/)\n",
    "* Meine Tech Talks auf [https://github.com/krlng/techtalks](https://github.com/krlng/techtalks)"
   ]
  },
  {
   "cell_type": "markdown",
   "metadata": {
    "slideshow": {
     "slide_type": "slide"
    }
   },
   "source": [
    "# Kapitelübersicht\n",
    "\n",
    "% toc"
   ]
  },
  {
   "cell_type": "markdown",
   "metadata": {
    "slideshow": {
     "slide_type": "slide"
    },
    "toc-hr-collapsed": false
   },
   "source": [
    "# Notebooks - Eine Autobiographie"
   ]
  },
  {
   "cell_type": "markdown",
   "metadata": {
    "slideshow": {
     "slide_type": "subslide"
    }
   },
   "source": [
    "## Die guten Seiten\n",
    "\n",
    "* Übersichtlich Darstellung\n",
    "* interaktive und intuitive Bedienung\n",
    "* Gut für explorative Analysen und Trainings\n",
    "* Plotting & Nachvollziehbarkeit"
   ]
  },
  {
   "cell_type": "markdown",
   "metadata": {
    "slideshow": {
     "slide_type": "subslide"
    }
   },
   "source": [
    "## Herausforderungen\n",
    "\n",
    "* Ausführungsreihenfolge\n",
    "* Versionskontrolle\n",
    "* Integration von IDEs für komplexere Entwicklung"
   ]
  },
  {
   "cell_type": "markdown",
   "metadata": {
    "slideshow": {
     "slide_type": "slide"
    }
   },
   "source": [
    "# Jupyter Lab - Die Einleitung"
   ]
  },
  {
   "cell_type": "markdown",
   "metadata": {
    "slideshow": {
     "slide_type": "subslide"
    }
   },
   "source": [
    "## Die Bestseller\n",
    "\n",
    "* Jupyter \n",
    "    * Jupyter Notebooks\n",
    "    * JupyterLab\n",
    "    * JupyterHub\n",
    "* [Zeppelin](https://zeppelin.apache.org/)\n",
    "* [Codelab (Google)](https://cloud.google.com/datalab/), [Watson Studio](https://www.ibm.com/cloud/watson-studio) ..."
   ]
  },
  {
   "cell_type": "markdown",
   "metadata": {
    "slideshow": {
     "slide_type": "subslide"
    }
   },
   "source": [
    "## Was bisher geschah...\n",
    "\n",
    "* Neu-Implementierung der Jupyter Notebooks\n",
    "* Seit 3 Jahren von 100 Contributors\n",
    "* 60 components, 12.000 commits\n",
    "* [Public seit Februar 2018](https://blog.jupyter.org/jupyterlab-is-ready-for-users-5a6f039b8906)\n",
    "* [Version 1.0](https://github.com/jupyterlab/jupyterlab/milestone/2) bei 90%\n"
   ]
  },
  {
   "cell_type": "markdown",
   "metadata": {
    "slideshow": {
     "slide_type": "subslide"
    }
   },
   "source": [
    "![Jupyterlab Position](./img/jupyterlab-position.png)"
   ]
  },
  {
   "cell_type": "markdown",
   "metadata": {
    "slideshow": {
     "slide_type": "subslide"
    }
   },
   "source": [
    "## Das Wichtigste\n",
    "\n",
    "* Neues UI & UX\n",
    "* Window Management\n",
    "* Datei-Explorer & Terminal\n",
    "* Erweiterte CSV und Markdown Unterstützung\n",
    "* Collapsible Cells & Dark Theme"
   ]
  },
  {
   "cell_type": "markdown",
   "metadata": {
    "slideshow": {
     "slide_type": "slide"
    },
    "toc-hr-collapsed": false
   },
   "source": [
    "# Features\n",
    "\n",
    "\n",
    "* JupyterLab entworfen als Plugin-Kompositum\n",
    "* Moderne Technologie-Stack (JavaScript, [YARN](https://yarnpkg.com/en/))\n",
    "* Alten [nbextensions](https://github.com/ipython-contrib/jupyter_contrib_nbextensions) sind leider nicht kompatibel\n",
    "* Aber dafür [mehr und mehr neue Plugins](https://github.com/topics/jupyterlab-extension)"
   ]
  },
  {
   "cell_type": "markdown",
   "metadata": {
    "slideshow": {
     "slide_type": "subslide"
    }
   },
   "source": [
    "## Standard-Umgebung"
   ]
  },
  {
   "cell_type": "markdown",
   "metadata": {
    "slideshow": {
     "slide_type": "fragment"
    }
   },
   "source": [
    "### Standard-Tastaturbefehle"
   ]
  },
  {
   "cell_type": "markdown",
   "metadata": {
    "slideshow": {
     "slide_type": "fragment"
    }
   },
   "source": [
    "Command  | Shortcut\n",
    "------------- | -------------\n",
    "Command Palette |`Accel Shift C`\n",
    "File Explorer |`Accel Shift F`\n",
    "Toggle Bar |`Accel B`\n",
    "Fullscreen Mode |`Accel Shift D`\n",
    "Close Tab |`Ctrl Q`\n",
    "Launcher |`Accel Shift L`"
   ]
  },
  {
   "cell_type": "markdown",
   "metadata": {
    "slideshow": {
     "slide_type": "subslide"
    }
   },
   "source": [
    "### Eigene Tatstenkürzel"
   ]
  },
  {
   "cell_type": "markdown",
   "metadata": {
    "slideshow": {
     "slide_type": "fragment"
    }
   },
   "source": [
    "Settings > Keyboard Shortcuts\n",
    "```\n",
    "{\n",
    "    \"notebook:move-cell-up\": {\n",
    "      \"command\": \"notebook:move-cell-up\",\n",
    "      \"keys\": [\n",
    "        \"Accel Alt ArrowUp\"\n",
    "      ],\n",
    "      \"selector\": \"body\"\n",
    "    },\n",
    "    \"notebook:move-cell-down\": {\n",
    "      \"command\": \"notebook:move-cell-down\",\n",
    "      \"keys\": [\n",
    "        \"Accel Alt ArrowDown\"\n",
    "      ],\n",
    "      \"selector\": \"body\"\n",
    "    }        \n",
    "}\n",
    "```"
   ]
  },
  {
   "cell_type": "markdown",
   "metadata": {},
   "source": [
    "## Conda Environments"
   ]
  },
  {
   "cell_type": "markdown",
   "metadata": {},
   "source": [
    "Use the [active conda environment](https://jakevdp.github.io/blog/2017/12/05/installing-python-packages-from-jupyter/) when installing new things"
   ]
  },
  {
   "cell_type": "code",
   "execution_count": null,
   "metadata": {},
   "outputs": [],
   "source": [
    "import sys\n",
    "!conda install --yes --prefix {sys.prefix} great_expectations"
   ]
  },
  {
   "cell_type": "markdown",
   "metadata": {},
   "source": [
    "To use different kernels within the same JupyterLab installation (with all plugins integrated) install nb_conda_kernels"
   ]
  },
  {
   "cell_type": "code",
   "execution_count": null,
   "metadata": {},
   "outputs": [],
   "source": [
    "!conda install -n base nb_conda_kernels"
   ]
  },
  {
   "cell_type": "markdown",
   "metadata": {
    "slideshow": {
     "slide_type": "subslide"
    }
   },
   "source": [
    "## Magics\n",
    "\n",
    "* run - Ausführen eines Skripts oder Jupyter-Notebooks\n",
    "* timeit - Ausführungszeit stoppen\n",
    "* load - Laden eines Skriptes\n",
    "* writefile - Wegschreiben des Zellinputs in eine Datei"
   ]
  },
  {
   "cell_type": "markdown",
   "metadata": {
    "slideshow": {
     "slide_type": "subslide"
    }
   },
   "source": [
    "### Eigene Magics erstellen"
   ]
  },
  {
   "cell_type": "code",
   "execution_count": null,
   "metadata": {},
   "outputs": [],
   "source": [
    "!docker run -d -p 27017:27017 --name mongodb mongo"
   ]
  },
  {
   "cell_type": "code",
   "execution_count": null,
   "metadata": {},
   "outputs": [],
   "source": [
    "%run custom_magic.ipynb"
   ]
  },
  {
   "cell_type": "code",
   "execution_count": null,
   "metadata": {
    "slideshow": {
     "slide_type": "fragment"
    }
   },
   "outputs": [],
   "source": [
    "%%docker mongodb\n",
    "mongo --eval 'printjson(db)'"
   ]
  },
  {
   "cell_type": "markdown",
   "metadata": {
    "slideshow": {
     "slide_type": "subslide"
    }
   },
   "source": [
    "## Installation von Plugins\n",
    "\n",
    "\n",
    "Entweder direkt **via Terminal**\n",
    "```\n",
    "jupyter labextension install @jupyterlab/<your-plugin-name>\n",
    "```\n",
    "\n",
    "oder über den **Extension Manager**\n",
    "\n",
    "```\n",
    "Settings > Extension Manager:\n",
    "\n",
    "{\n",
    "    \"enabled\": true\n",
    "}\n",
    "```"
   ]
  },
  {
   "cell_type": "markdown",
   "metadata": {
    "slideshow": {
     "slide_type": "subslide"
    }
   },
   "source": [
    "## Erwähnenswerte Plugins"
   ]
  },
  {
   "cell_type": "markdown",
   "metadata": {
    "slideshow": {
     "slide_type": "fragment"
    }
   },
   "source": [
    "* Produktivität\n",
    "    * [Git](https://github.com/jupyterlab/jupyterlab-git)\n",
    "    * [Table of Content](https://github.com/jupyterlab/jupyterlab-toc)\n",
    "    * [Go 2 Definition](https://github.com/krassowski/jupyterlab-go-to-definition)\n",
    "    * [Variable Inspector](https://github.com/lckr/jupyterlab-variableInspector)\n",
    "    * [Code Formatter](https://github.com/ryantam626/jupyterlab_code_formatter)\n",
    "    * [JupyExt](https://github.com/mwouts/jupytext)"
   ]
  },
  {
   "cell_type": "markdown",
   "metadata": {
    "slideshow": {
     "slide_type": "subslide"
    }
   },
   "source": [
    "* Key Bindings\n",
    "    * [Vim Bindings](https://github.com/jwkvam/jupyterlab-vim)\n",
    "    * [Sublime Bindings](https://github.com/jwkvam/jupyterlab-vim)\n",
    "* Dashboard\n",
    "    * [Tensorboard](https://github.com/chaoleili/jupyterlab_tensorboard)\n",
    "    * [Dask](https://github.com/chaoleili/jupyterlab_tensorboard)\n",
    "* Visualisierung\n",
    "    * [AltAir](https://github.com/bokeh/jupyterlab_bokeh)\n",
    "    * [Bokeh](https://github.com/bokeh/jupyterlab_bokeh)"
   ]
  },
  {
   "cell_type": "markdown",
   "metadata": {
    "slideshow": {
     "slide_type": "fragment"
    }
   },
   "source": [
    "* Erweiterte Datentypen\n",
    "    * [Latex](https://github.com/jupyterlab/jupyterlab-latex)\n",
    "    * [HTML Files](https://github.com/mflevine/jupyterlab_html)\n",
    "    * [Drawio](https://github.com/QuantStack/jupyterlab-drawio)\n",
    "    * [Geo-Suppoert](https://github.com/jupyterlab/jupyter-renderers)\n",
    "* Sonstiges\n",
    "    * [Jupyter CellTags](https://github.com/jupyterlab/jupyterlab-celltags)\n",
    "    * [RISE](https://github.com/lsst-sqre/RISE/tree/jupyterlab_extension/jupyterlab/jupyterlab_rise)\n",
    "    * [Spreadsheets for jupyter](https://github.com/QuantStack/ipysheet)\n",
    "    * [Google Docs Collaboration](https://github.com/jupyterlab/jupyterlab-google-drive/issues/108)"
   ]
  },
  {
   "cell_type": "markdown",
   "metadata": {
    "slideshow": {
     "slide_type": "slide"
    },
    "toc-hr-collapsed": false
   },
   "source": [
    "# Versionskontrolle für Notebooks\n",
    "[Guter Blog-Artikel von D. Schmüdde](https://nextjournal.com/schmudde/how-to-version-control-jupyter?utm_campaign=DataScience_Digest&utm_medium=email&utm_source=Revue%20newsletter)"
   ]
  },
  {
   "cell_type": "markdown",
   "metadata": {
    "slideshow": {
     "slide_type": "subslide"
    }
   },
   "source": [
    "## Eingebaute Möglichkeiten\n",
    "* Clear all output cells\n",
    "* Export as HTML\n",
    "* Export Code-Cell"
   ]
  },
  {
   "cell_type": "markdown",
   "metadata": {
    "slideshow": {
     "slide_type": "subslide"
    }
   },
   "source": [
    "## Old-Fashined Git-Hook\n",
    "\n",
    "Add [this scribe](https://jamesfolberth.org/articles/2017/08/07/git-commit-hook-for-jupyter-notebooks/) to {repo_root}/.git/hooks/pre-commit "
   ]
  },
  {
   "cell_type": "code",
   "execution_count": null,
   "metadata": {
    "slideshow": {
     "slide_type": "subslide"
    }
   },
   "outputs": [],
   "source": [
    "%%writefile ./.git/hooks/pre-commit\n",
    "#!/usr/bin/env python\n",
    "\"\"\"strip outputs from an IPython Notebook\n",
    "Opens a notebook, strips its output, and writes the outputless version to the original file.\n",
    "Useful mainly as a git filter or pre-commit hook for users who don't want to track output in VCS.\n",
    "This does mostly the same thing as the `Clear All Output` command in the notebook UI.\n",
    "LICENSE: Public Domain\n",
    "\"\"\"\n",
    "\n",
    "import io\n",
    "import sys\n",
    "\n",
    "try:\n",
    "    # Jupyter >= 4\n",
    "    from nbformat import read, write, NO_CONVERT\n",
    "except ImportError:\n",
    "    # IPython 3\n",
    "    try:\n",
    "        from IPython.nbformat import read, write, NO_CONVERT\n",
    "    except ImportError:\n",
    "        # IPython < 3\n",
    "        from IPython.nbformat import current\n",
    "    \n",
    "        def read(f, as_version):\n",
    "            return current.read(f, 'json')\n",
    "    \n",
    "        def write(nb, f):\n",
    "            return current.write(nb, f, 'json')\n",
    "\n",
    "\n",
    "def _cells(nb):\n",
    "    \"\"\"Yield all cells in an nbformat-insensitive manner\"\"\"\n",
    "    if nb.nbformat < 4:\n",
    "        for ws in nb.worksheets:\n",
    "            for cell in ws.cells:\n",
    "                yield cell\n",
    "    else:\n",
    "        for cell in nb.cells:\n",
    "            yield cell\n",
    "\n",
    "\n",
    "def strip_output(nb):\n",
    "    \"\"\"strip the outputs from a notebook object\"\"\"\n",
    "    nb.metadata.pop('signature', None)\n",
    "    for cell in _cells(nb):\n",
    "        if 'outputs' in cell:\n",
    "            cell['outputs'] = []\n",
    "        if 'prompt_number' in cell:\n",
    "            cell['prompt_number'] = None\n",
    "    return nb\n",
    "\n",
    "\n",
    "if __name__ == '__main__':\n",
    "    filename = sys.argv[1]\n",
    "    with io.open(filename, 'r', encoding='utf8') as f:\n",
    "        nb = read(f, as_version=NO_CONVERT)\n",
    "    nb = strip_output(nb)\n",
    "    with io.open(filename, 'w', encoding='utf8') as f:\n",
    "        write(nb, f)"
   ]
  },
  {
   "cell_type": "code",
   "execution_count": null,
   "metadata": {},
   "outputs": [],
   "source": [
    "%%writefile ./.git/hooks/nbstripout\n",
    "#!/bin/sh\n",
    "#\n",
    "# strip output of IPython Notebooks\n",
    "# add this as `.git/hooks/pre-commit`\n",
    "# to run every time you commit a notebook\n",
    "#\n",
    "# requires `nbstripout` to be available on your PATH\n",
    "#\n",
    "# LICENSE: Public Domain\n",
    "\n",
    "if git rev-parse --verify HEAD >/dev/null 2>&1; then\n",
    "   against=HEAD\n",
    "else\n",
    "   # Initial commit: diff against an empty tree object\n",
    "   against=4b825dc642cb6eb9a060e54bf8d69288fbee4904\n",
    "fi\n",
    " \n",
    "# Find notebooks to be committed\n",
    "(\n",
    "IFS='\n",
    "'\n",
    "NBS=`git diff-index -z --cached $against --name-only | grep '.ipynb$' | uniq`\n",
    "\n",
    "for NB in $NBS ; do\n",
    "    echo \"Removing outputs from $NB\"\n",
    "    nbstripout \"$NB\"\n",
    "    git add \"$NB\"\n",
    "done\n",
    ")\n",
    "\n",
    "exec git diff-index --check --cached $against --"
   ]
  },
  {
   "cell_type": "markdown",
   "metadata": {},
   "source": [
    "## Notebook-Binding mit Jupytext"
   ]
  },
  {
   "cell_type": "code",
   "execution_count": null,
   "metadata": {},
   "outputs": [],
   "source": []
  },
  {
   "cell_type": "markdown",
   "metadata": {
    "slideshow": {
     "slide_type": "subslide"
    }
   },
   "source": [
    "## Auswahl der richtigen Versionskontroll Strategie\n",
    "\n",
    "![Tool Auswahl](./img/versionskontroll-diagramm.png)"
   ]
  },
  {
   "cell_type": "markdown",
   "metadata": {
    "slideshow": {
     "slide_type": "slide"
    },
    "toc-hr-collapsed": false
   },
   "source": [
    "# Der Hauptteil"
   ]
  },
  {
   "cell_type": "markdown",
   "metadata": {
    "slideshow": {
     "slide_type": "subslide"
    }
   },
   "source": [
    "## Exploration"
   ]
  },
  {
   "cell_type": "markdown",
   "metadata": {
    "slideshow": {
     "slide_type": "fragment"
    }
   },
   "source": [
    "Wir nutzen zur Demo die [\"New York City Taxi Fare Prediction\" Kaggle Challenge](https://www.kaggle.com/c/new-york-city-taxi-fare-prediction). Der vollständige Datensatz findet sich dort, in diesem Repo findet sich nur ein minimaler Demo-Datensatz!\n",
    "\n",
    "Außerdem ist der Ablauf stark inspiriert von [Warlk Trough Artikel von William Koehrsen](https://towardsdatascience.com/another-machine-learning-walk-through-and-a-challenge-8fae1e187a64), mehr inhaltliche Infos dort."
   ]
  },
  {
   "cell_type": "code",
   "execution_count": null,
   "metadata": {
    "slideshow": {
     "slide_type": "subslide"
    }
   },
   "outputs": [],
   "source": [
    "# %load ./imports.py\n",
    "import os\n",
    "from datetime import datetime as dt\n",
    "\n",
    "import numpy as np\n",
    "import pandas as pd\n",
    "import sklearn as skl\n",
    "\n",
    "# Pandas display options\n",
    "pd.set_option('display.float_format', lambda x: '%.3f' % x)\n",
    "import IPython.display as ipd\n",
    "\n",
    "# Set random seed \n",
    "RSEED = 42\n",
    "\n",
    "# Visualizations\n",
    "import matplotlib.pyplot as plt\n",
    "plt.rcParams['figure.figsize'] = (25, 5)\n",
    "%matplotlib inline\n",
    "#plt.style.use('fivethirtyeight')\n",
    "plt.rcParams['font.size'] = 18\n",
    "\n",
    "import seaborn as sns\n",
    "cm = sns.light_palette(\"green\", as_cmap=True)\n"
   ]
  },
  {
   "cell_type": "code",
   "execution_count": null,
   "metadata": {
    "slideshow": {
     "slide_type": "fragment"
    }
   },
   "outputs": [],
   "source": [
    "data = pd.read_csv('data/sample.csv', nrows = 50000, parse_dates = ['pickup_datetime']).drop(columns = 'key')\n",
    "\n",
    "# Remove na\n",
    "data = data.dropna()\n",
    "data.head()"
   ]
  },
  {
   "cell_type": "markdown",
   "metadata": {
    "slideshow": {
     "slide_type": "subslide"
    }
   },
   "source": [
    "### Daten verstehen\n",
    "\n",
    "Der Datensatz besteht im wesentlichen aus nummerischen Werten, entsprechend bietet sich die `.describe()` Methode an, um eine statistische Zusammenfassung zu erhalten. Insbesondere Max- und Minimalwerte sind zur Outlierbestimmung hilfreichen."
   ]
  },
  {
   "cell_type": "code",
   "execution_count": null,
   "metadata": {
    "slideshow": {
     "slide_type": "fragment"
    }
   },
   "outputs": [],
   "source": [
    "data.info()"
   ]
  },
  {
   "cell_type": "code",
   "execution_count": null,
   "metadata": {
    "slideshow": {
     "slide_type": "fragment"
    }
   },
   "outputs": [],
   "source": [
    "data.describe()"
   ]
  },
  {
   "cell_type": "markdown",
   "metadata": {
    "slideshow": {
     "slide_type": "subslide"
    }
   },
   "source": [
    "### Pandas Profiling"
   ]
  },
  {
   "cell_type": "code",
   "execution_count": null,
   "metadata": {
    "slideshow": {
     "slide_type": "subslide"
    }
   },
   "outputs": [],
   "source": [
    "#pandas_profiling.ProfileReport(data)\n",
    "import os\n",
    "if not 'workbookDir' in globals():\n",
    "    workbookDir = os.getcwd()\n",
    "import pandas_profiling\n",
    "profile = pandas_profiling.ProfileReport(data)\n",
    "print(workbookDir)\n",
    "profile.to_file(outputfile=workbookDir+\"/data_report.html\")"
   ]
  },
  {
   "cell_type": "code",
   "execution_count": null,
   "metadata": {
    "slideshow": {
     "slide_type": "skip"
    }
   },
   "outputs": [],
   "source": [
    "%%! \n",
    "open \"$(pwd)/data_report.html\""
   ]
  },
  {
   "cell_type": "markdown",
   "metadata": {
    "slideshow": {
     "slide_type": "subslide"
    }
   },
   "source": [
    "### View Map Data"
   ]
  },
  {
   "cell_type": "code",
   "execution_count": null,
   "metadata": {
    "slideshow": {
     "slide_type": "fragment"
    }
   },
   "outputs": [],
   "source": [
    "from IPython.display import GeoJSON\n",
    "point = data.sample(1)\n",
    "GeoJSON({\n",
    "    \"type\": \"Feature\",\n",
    "    \"geometry\": {\n",
    "      \"type\": \"LineString\",\n",
    "    \"coordinates\": [\n",
    "        [point.pickup_longitude.values[0], point.pickup_latitude.values[0]],\n",
    "        [point.dropoff_longitude.values[0], point.dropoff_latitude.values[0]]\n",
    "       ]\n",
    "    }\n",
    "})"
   ]
  },
  {
   "cell_type": "markdown",
   "metadata": {
    "slideshow": {
     "slide_type": "subslide"
    }
   },
   "source": [
    "**Unser Standort**"
   ]
  },
  {
   "cell_type": "code",
   "execution_count": null,
   "metadata": {
    "slideshow": {
     "slide_type": "fragment"
    }
   },
   "outputs": [],
   "source": [
    "from IPython.display import GeoJSON\n",
    "GeoJSON({\n",
    "    \"type\": \"Feature\",\n",
    "    \"geometry\": {\n",
    "      \"type\": \"Point\",\n",
    "    \"coordinates\": [8.677636, 49.404927]\n",
    "    }\n",
    "})"
   ]
  },
  {
   "cell_type": "markdown",
   "metadata": {
    "slideshow": {
     "slide_type": "slide"
    }
   },
   "source": [
    "### Great Expectations"
   ]
  },
  {
   "cell_type": "markdown",
   "metadata": {
    "slideshow": {
     "slide_type": "fragment"
    }
   },
   "source": [
    "Machine Learning Models werden nicht nur von den Parametern bzw. vom Quellcode bestimmt, sondern genauso von den Trainingsdaten. Während das Testen von Quellcode inzwischen gängige Praxis ist, werden Daten häufig als gegeben angenommen. Mehr unter [\"Down with Pipeline Dept\"](https://medium.com/@expectgreatdata/down-with-pipeline-debt-introducing-great-expectations-862ddc46782a)."
   ]
  },
  {
   "cell_type": "code",
   "execution_count": null,
   "metadata": {
    "slideshow": {
     "slide_type": "subslide"
    }
   },
   "outputs": [],
   "source": [
    "import great_expectations as ge\n",
    "sample = ge.read_csv('data/sample.csv', nrows = 10000)"
   ]
  },
  {
   "cell_type": "code",
   "execution_count": null,
   "metadata": {
    "slideshow": {
     "slide_type": "skip"
    }
   },
   "outputs": [],
   "source": [
    "sample.head()"
   ]
  },
  {
   "cell_type": "code",
   "execution_count": null,
   "metadata": {
    "slideshow": {
     "slide_type": "fragment"
    }
   },
   "outputs": [],
   "source": [
    "sample.expect_column_values_to_be_of_type(\"fare_amount\",\"float\")"
   ]
  },
  {
   "cell_type": "code",
   "execution_count": null,
   "metadata": {
    "slideshow": {
     "slide_type": "fragment"
    }
   },
   "outputs": [],
   "source": [
    "sample.expect_column_values_to_be_between(\"fare_amount\",min_value=1,max_value=100)"
   ]
  },
  {
   "cell_type": "code",
   "execution_count": null,
   "metadata": {},
   "outputs": [],
   "source": [
    "sample.expect_column_values_to_be_between(\"fare_amount\",min_value=1,max_value=100)"
   ]
  },
  {
   "cell_type": "code",
   "execution_count": null,
   "metadata": {},
   "outputs": [],
   "source": [
    "sample.expect_column_max_to_be_between(\"fare_amount\",min_value=100, max_value=200)"
   ]
  },
  {
   "cell_type": "code",
   "execution_count": null,
   "metadata": {},
   "outputs": [],
   "source": [
    "def clean(df):\n",
    "    return df.loc[df['fare_amount']>=1,:]\n",
    "\n",
    "sample = clean(sample)\n",
    "sample.expect_column_min_to_be_between(\"fare_amount\",min_value=1, max_value=5)"
   ]
  },
  {
   "cell_type": "markdown",
   "metadata": {},
   "source": [
    "#### Existierende Expectations auf neue Daten anwenden"
   ]
  },
  {
   "cell_type": "code",
   "execution_count": null,
   "metadata": {},
   "outputs": [],
   "source": [
    "sample.save_expectations_config(\"taxi-expectations.json\",)"
   ]
  },
  {
   "cell_type": "code",
   "execution_count": null,
   "metadata": {},
   "outputs": [],
   "source": [
    "import json\n",
    "my_expectations_config = json.load(open(\"taxi-expectations.json\"))\n",
    "full = ge.read_csv(\n",
    "    'input/train.csv', \n",
    "    nrows = 250000,\n",
    "    expectations_config=my_expectations_config\n",
    ")"
   ]
  },
  {
   "cell_type": "code",
   "execution_count": null,
   "metadata": {},
   "outputs": [],
   "source": [
    "import flatten_json as fj\n",
    "validationResults = full.validate(result_format='BASIC')['results']\n",
    "results = [fj.flatten_json(row) for row in validationResults]\n",
    "pd.DataFrame(results)[['expectation_config_expectation_type','expectation_config_kwargs_column','success']]"
   ]
  },
  {
   "cell_type": "code",
   "execution_count": null,
   "metadata": {},
   "outputs": [],
   "source": [
    "validationResults[10]"
   ]
  },
  {
   "cell_type": "markdown",
   "metadata": {
    "slideshow": {
     "slide_type": "skip"
    }
   },
   "source": [
    "## Feature Engineering"
   ]
  },
  {
   "cell_type": "markdown",
   "metadata": {
    "slideshow": {
     "slide_type": "skip"
    }
   },
   "source": [
    "Offensichtlich hängt der Preis einer Taxi-Fahrt von Dauer und Streckenlänge ab. Da sich anhand der gegebenen Werte nur letzteres direkt berechnen lässt ist dies offentlich ein wichtiges Feature. Zur Annährung bietet sich die relativ einfache [Minoski-Metrik](https://de.wikipedia.org/wiki/Minkowski-Raum) an. "
   ]
  },
  {
   "cell_type": "code",
   "execution_count": null,
   "metadata": {
    "slideshow": {
     "slide_type": "skip"
    }
   },
   "outputs": [],
   "source": [
    "def minkowski_distance(x1, x2, y1, y2, p):\n",
    "    return ((abs(x2 - x1) ** p) + (abs(y2 - y1)) ** p) ** (1 / p)\n",
    "\n",
    "data['manhattan'] = minkowski_distance(data['pickup_longitude'], data['dropoff_longitude'],\n",
    "                                       data['pickup_latitude'], data['dropoff_latitude'], 1)\n",
    "\n",
    "data['euklidean'] = minkowski_distance(data['pickup_longitude'], data['dropoff_longitude'],\n",
    "                                       data['pickup_latitude'], data['dropoff_latitude'], 2)\n",
    "\n",
    "data.head()"
   ]
  },
  {
   "cell_type": "markdown",
   "metadata": {
    "slideshow": {
     "slide_type": "skip"
    }
   },
   "source": [
    "Die korrekte Berechnung der Luftlinienverbindung hingegen ist aufgrund der Erdkrümmung deutlich komplizierter:"
   ]
  },
  {
   "cell_type": "code",
   "execution_count": null,
   "metadata": {
    "slideshow": {
     "slide_type": "skip"
    }
   },
   "outputs": [],
   "source": [
    "# Radius of the earth in kilometers\n",
    "R = 6378\n",
    "\n",
    "def haversine_np(lon1, lat1, lon2, lat2):\n",
    "    \"\"\"\n",
    "    Calculate the great circle distance between two points\n",
    "    on the earth (specified in decimal degrees)\n",
    "\n",
    "    All args must be of equal length.    \n",
    "    \n",
    "    source: https://stackoverflow.com/a/29546836\n",
    "\n",
    "    \"\"\"\n",
    "    # Convert latitude and longitude to radians\n",
    "    lon1, lat1, lon2, lat2 = map(np.radians, [lon1, lat1, lon2, lat2])\n",
    "\n",
    "    # Find the differences\n",
    "    dlon = lon2 - lon1\n",
    "    dlat = lat2 - lat1\n",
    "\n",
    "    # Apply the formula \n",
    "    a = np.sin(dlat/2.0)**2 + np.cos(lat1) * np.cos(lat2) * np.sin(dlon/2.0)**2\n",
    "    # Calculate the angle (in radians)\n",
    "    c = 2 * np.arcsin(np.sqrt(a))\n",
    "    # Convert to kilometers\n",
    "    km = R * c\n",
    "    \n",
    "    return km\n",
    "\n",
    "data['haversine'] =  haversine_np(data['pickup_longitude'], data['pickup_latitude'],\n",
    "                         data['dropoff_longitude'], data['dropoff_latitude']) "
   ]
  },
  {
   "cell_type": "code",
   "execution_count": null,
   "metadata": {
    "slideshow": {
     "slide_type": "skip"
    }
   },
   "outputs": [],
   "source": [
    "data.head()"
   ]
  },
  {
   "cell_type": "markdown",
   "metadata": {
    "slideshow": {
     "slide_type": "subslide"
    }
   },
   "source": [
    "### Quellcode organisieren"
   ]
  },
  {
   "cell_type": "code",
   "execution_count": null,
   "metadata": {},
   "outputs": [],
   "source": [
    "!mkdir -p featureengineering"
   ]
  },
  {
   "cell_type": "code",
   "execution_count": null,
   "metadata": {
    "slideshow": {
     "slide_type": "subslide"
    }
   },
   "outputs": [],
   "source": [
    "%%writefile featureengineering/distance.py\n",
    "# Radius of the earth in kilometers\n",
    "R = 6378\n",
    "import numpy as np\n",
    "\n",
    "def haversine_np(lon1, lat1, lon2, lat2):\n",
    "    return 1\n",
    "    \"\"\"\n",
    "    Calculate the great circle distance between two points\n",
    "    on the earth (specified in decimal degrees)\n",
    "\n",
    "    All args must be of equal length.    \n",
    "    \n",
    "    source: https://stackoverflow.com/a/29546836\n",
    "\n",
    "    \"\"\"\n",
    "    # Convert latitude and longitude to radians\n",
    "    lon1, lat1, lon2, lat2 = map(np.radians, [lon1, lat1, lon2, lat2])\n",
    "\n",
    "    # Find the differences\n",
    "    dlon = lon2 - lon1\n",
    "    dlat = lat2 - lat1\n",
    "\n",
    "    # Apply the formula \n",
    "    a = np.sin(dlat/2.0)**2 + np.cos(lat1) * np.cos(lat2) * np.sin(dlon/2.0)**2\n",
    "    # Calculate the angle (in radians)\n",
    "    c = 2 * np.arcsin(np.sqrt(a))\n",
    "    # Convert to kilometers\n",
    "    km = R * c\n",
    "    \n",
    "    return km"
   ]
  },
  {
   "cell_type": "code",
   "execution_count": null,
   "metadata": {
    "slideshow": {
     "slide_type": "subslide"
    }
   },
   "outputs": [],
   "source": [
    "from featureengineering.distance import haversine_np"
   ]
  },
  {
   "cell_type": "code",
   "execution_count": null,
   "metadata": {
    "slideshow": {
     "slide_type": "subslide"
    }
   },
   "outputs": [],
   "source": [
    "data['haversine'] =  haversine_np(data['pickup_longitude'], data['pickup_latitude'],\n",
    "                         data['dropoff_longitude'], data['dropoff_latitude']) \n",
    "data.head()"
   ]
  },
  {
   "cell_type": "code",
   "execution_count": null,
   "metadata": {
    "slideshow": {
     "slide_type": "subslide"
    }
   },
   "outputs": [],
   "source": [
    "%load_ext autoreload\n",
    "\n",
    "%autoreload 2"
   ]
  },
  {
   "cell_type": "markdown",
   "metadata": {
    "slideshow": {
     "slide_type": "skip"
    }
   },
   "source": [
    "## Plotting data"
   ]
  },
  {
   "cell_type": "code",
   "execution_count": null,
   "metadata": {},
   "outputs": [],
   "source": [
    "import altair as alt"
   ]
  },
  {
   "cell_type": "code",
   "execution_count": null,
   "metadata": {},
   "outputs": [],
   "source": [
    "vega_data."
   ]
  },
  {
   "cell_type": "code",
   "execution_count": null,
   "metadata": {},
   "outputs": [],
   "source": [
    "\n",
    "from vega_datasets import data as vega_data\n",
    "states = alt.topo_feature(vega_data.us_10m.url, feature='states')\n",
    "\n",
    "background = alt.Chart(states).mark_geoshape(\n",
    "    fill='lightgray',\n",
    "    stroke='white'\n",
    ").properties(\n",
    "    width=900,\n",
    "    height=300\n",
    ").project('albersUsa')\n",
    "\n",
    "points = alt.Chart(data.head(300)).mark_circle().encode(\n",
    "    longitude='pickup_longitude:Q',\n",
    "    latitude='pickup_latitude:Q',\n",
    "    size=alt.value(10)\n",
    ")\n",
    "points + background"
   ]
  },
  {
   "cell_type": "code",
   "execution_count": null,
   "metadata": {},
   "outputs": [],
   "source": [
    "alt.Chart(data.head(300)).mark_point().encode(\n",
    "    x='pickup_longitude',\n",
    "    y='pickup_latitude',\n",
    "    color=\"fare_amount\"\n",
    ")"
   ]
  },
  {
   "cell_type": "markdown",
   "metadata": {
    "slideshow": {
     "slide_type": "slide"
    }
   },
   "source": [
    "## Ergebnispräsentation"
   ]
  },
  {
   "cell_type": "markdown",
   "metadata": {
    "slideshow": {
     "slide_type": "subslide"
    }
   },
   "source": [
    "### Reveal.js"
   ]
  },
  {
   "cell_type": "markdown",
   "metadata": {
    "slideshow": {
     "slide_type": "fragment"
    }
   },
   "source": [
    "Darstellung eines Notebooks als interaktive Präsentation mit Hilfe von Reveal.js. Dabei kann jede Zelle als eigene Slide, Sub-Slide oder Fragment definiert werden."
   ]
  },
  {
   "cell_type": "markdown",
   "metadata": {
    "slideshow": {
     "slide_type": "subslide"
    }
   },
   "source": [
    "### Binder\n",
    "\n",
    "* Interaktives Bereitstellen von Notebooks via Github Repo\n",
    "* Inklusive Abhängigkeiten und Erweiterungen\n",
    "* [Integration via Github](https://github.com/krlng/d2d-jupyterlab)"
   ]
  },
  {
   "cell_type": "markdown",
   "metadata": {
    "slideshow": {
     "slide_type": "slide"
    }
   },
   "source": [
    "# Warum JupyterLab?"
   ]
  },
  {
   "cell_type": "markdown",
   "metadata": {
    "slideshow": {
     "slide_type": "fragment"
    }
   },
   "source": [
    "* Die neue Oberfläche ist toll\n",
    "* Plugin-System verbreitet sich sehr schnell\n",
    "* Integration mit IDEs inzwischen möglich\n",
    "* Unsterstützung für alle möglichen Datentypen- und Plottingslibraries"
   ]
  },
  {
   "cell_type": "markdown",
   "metadata": {
    "slideshow": {
     "slide_type": "subslide"
    }
   },
   "source": [
    "## Links zu noch mehr Links\n",
    "- [Awesome JupyterLab](https://github.com/mauhai/awesome-jupyterlab) - Curated List of JupyterLab Extensions\n",
    "- [Awesome Jupyter](https://github.com/adebar/awesome-jupyter) - Curated List of nice Jupyter things\n",
    "- [Beyond Interactive: Notebook Innovation at Netflix](https://medium.com/netflix-techblog/notebook-innovation-591ee3221233)\n",
    "- [Interesting Jupyter Notebooks](https://github.com/jupyter/jupyter/wiki/a-gallery-of-interesting-jupyter-notebooks)"
   ]
  }
 ],
 "metadata": {
  "kernelspec": {
   "display_name": "Python 3",
   "language": "python",
   "name": "python3"
  },
  "language_info": {
   "codemirror_mode": {
    "name": "ipython",
    "version": 3
   },
   "file_extension": ".py",
   "mimetype": "text/x-python",
   "name": "python",
   "nbconvert_exporter": "python",
   "pygments_lexer": "ipython3",
   "version": "3.6.7"
  },
  "toc-autonumbering": true,
  "toc-showcode": false,
  "toc-showmarkdowntxt": false,
  "toc-showtags": false
 },
 "nbformat": 4,
 "nbformat_minor": 2
}
