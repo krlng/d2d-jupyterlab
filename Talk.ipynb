{
 "cells": [
  {
   "cell_type": "markdown",
   "metadata": {
    "slideshow": {
     "slide_type": "slide"
    }
   },
   "source": [
    "<div style=\"display: inline-block; float:left; width: 50%\">\n",
    "<img src=\"img/jupyter-logo.png\" width=\"300px\"/>\n",
    "</div>\n",
    "<div style=\"float: left; width: 50%\">\n",
    "    <h1>PyData Workflow mit Jupyter Lab</h1>\n",
    "    <h3>Meine Notizen zur nächsten Generation Notebooks</h3>\n",
    "    <div><br>\n",
    "    <p><cite>\"Finally a tool where I can do all my work. And yes, I have worked with Emacs.\"</cite> - <a href=\"https://medium.com/@boyanangelov/is-this-the-best-data-science-ide-jupyter-lab-review-fdd165470f13\">Boyan Angelov, Data Scientist @mindmatch.ai</a></p>\n",
    "    <p><cite>\"I’m extremely excited the potential of JupyterLab. I have a high level of confidence in the team who is making this possible\"</cite> - <a href=\"https://medium.com/@brianray_7981/jupyterlab-first-impressions-e6d70d8a175d\">Brian Ray</a></p>\n",
    "        </div>\n",
    "</div>"
   ]
  },
  {
   "cell_type": "markdown",
   "metadata": {
    "slideshow": {
     "slide_type": "subslide"
    }
   },
   "source": [
    "## Über den Autor\n",
    "\n",
    "![Some pic of me](http://nico.kreiling.family/assets/img/me.png)\n",
    "\n",
    "**Nico Kreiling**\n",
    "* \"Big Data Scientist\" @ [inovex](https://www.inovex.de/de/)\n",
    "* Hadoop, Data Science, Kubernetes, Cloud\n",
    "* Tech-Podcast für Entwickler: [inoTecCast](https://inoteccast.de/)\n",
    "* Meine Tech Talks auf [https://github.com/krlng/techtalks](https://github.com/krlng/techtalks)"
   ]
  },
  {
   "cell_type": "markdown",
   "metadata": {
    "slideshow": {
     "slide_type": "slide"
    }
   },
   "source": [
    "# Kapitelübersicht\n",
    "\n",
    "* Notebooks im Allgeinen\n",
    "* Einführung in Jupyter Lab\n",
    "* Individualisieren\n",
    "    * Plugins\n",
    "    * Tastaturkürzel\n",
    "* Workflow Demo\n",
    "    * Datenexploration\n",
    "    * Quellcode organisieren\n",
    "    * Feature Engineering\n",
    "    * Ergebnisse teilen\n",
    "* Fazit"
   ]
  },
  {
   "cell_type": "markdown",
   "metadata": {
    "slideshow": {
     "slide_type": "slide"
    }
   },
   "source": [
    "# Notebooks - Eine Autobiographie"
   ]
  },
  {
   "cell_type": "markdown",
   "metadata": {
    "slideshow": {
     "slide_type": "subslide"
    }
   },
   "source": [
    "## Die guten Seiten\n",
    "\n",
    "* Übersichtlich Darstellung\n",
    "* interaktive und intuitive Bedienung\n",
    "* Gut für explorative Analysen und Trainings"
   ]
  },
  {
   "cell_type": "markdown",
   "metadata": {
    "slideshow": {
     "slide_type": "subslide"
    }
   },
   "source": [
    "## Die schlechten Seiten\n",
    "\n",
    "* Ausführungsreihenfolge ist wichtig\n",
    "* Meist spätere Re-Implementierung notwendig\n",
    "* Weniger Entwicklugnssupport als in IDEs"
   ]
  },
  {
   "cell_type": "markdown",
   "metadata": {
    "slideshow": {
     "slide_type": "subslide"
    }
   },
   "source": [
    "## Die Bestseller\n",
    "\n",
    "* Jupyter \n",
    "    * Jupyter Notebooks\n",
    "    * JupyterLab\n",
    "    * JupyterHub\n",
    "* [Zeppelin](https://zeppelin.apache.org/)\n",
    "* [Cloud Datalab (Google)](https://cloud.google.com/datalab/), [Watson Studio](https://www.ibm.com/cloud/watson-studio) ..."
   ]
  },
  {
   "cell_type": "markdown",
   "metadata": {
    "slideshow": {
     "slide_type": "slide"
    }
   },
   "source": [
    "# Jupyter Lab - Die Einleitung"
   ]
  },
  {
   "cell_type": "markdown",
   "metadata": {
    "slideshow": {
     "slide_type": "subslide"
    }
   },
   "source": [
    "## Was bisher geschah...\n",
    "\n",
    "* Neu-Implementierung der Jupyter Notebooks\n",
    "* Seit 3 Jahren von 100 Contributors\n",
    "* 60 components, 12.000 commits\n",
    "* [Public seit Februar](https://blog.jupyter.org/jupyterlab-is-ready-for-users-5a6f039b8906)\n",
    "* [1.0](https://github.com/jupyterlab/jupyterlab/milestone/2) vermutlich November\n"
   ]
  },
  {
   "cell_type": "markdown",
   "metadata": {
    "slideshow": {
     "slide_type": "subslide"
    }
   },
   "source": [
    "![Jupyterlab Position](./img/jupyterlab-position.png)"
   ]
  },
  {
   "cell_type": "markdown",
   "metadata": {
    "slideshow": {
     "slide_type": "subslide"
    }
   },
   "source": [
    "## Das Wichtigste\n",
    "\n",
    "* Neues UI & UX\n",
    "* Window Management\n",
    "* Datei-Explorer & Terminal\n",
    "* Erweiterte CSV und Markdown Unterstützung\n",
    "* Collapsible Cells & Dark Theme"
   ]
  },
  {
   "cell_type": "markdown",
   "metadata": {
    "slideshow": {
     "slide_type": "slide"
    }
   },
   "source": [
    "# Der Schlüssel zur Produktivität"
   ]
  },
  {
   "cell_type": "markdown",
   "metadata": {
    "slideshow": {
     "slide_type": "subslide"
    }
   },
   "source": [
    "## Bestehendes kennen\n",
    "\n",
    "![Know your tools](./img/books.jpg)"
   ]
  },
  {
   "cell_type": "markdown",
   "metadata": {},
   "source": [
    "* JupyterLab entworfen als Plugin-Kompositum\n",
    "* Moderne Technologie-Stack (JavaScript, [YARN](https://yarnpkg.com/en/))\n",
    "* Aber [nbextensions](https://github.com/ipython-contrib/jupyter_contrib_nbextensions) nicht kompatibel"
   ]
  },
  {
   "cell_type": "markdown",
   "metadata": {
    "slideshow": {
     "slide_type": "subslide"
    }
   },
   "source": [
    "* Graphische Erweiterungen\n",
    "    * [Git](https://github.com/jupyterlab/jupyterlab-git)\n",
    "    * [toc](https://github.com/jupyterlab/jupyterlab-toc)\n",
    "    * [Bokeh](https://github.com/bokeh/jupyterlab_bokeh)\n",
    "    * [Tensorboard](https://github.com/chaoleili/jupyterlab_tensorboard)\n",
    "* Erweiterte Datentypen\n",
    "    * [Latex](https://github.com/jupyterlab/jupyterlab-latex)\n",
    "    * [HTML Files](https://github.com/mflevine/jupyterlab_html)\n",
    "    * [Drawio](https://github.com/QuantStack/jupyterlab-drawio)\n",
    "    * [Geo-Suppoert](https://github.com/jupyterlab/jupyter-renderers)\n",
    "    * [ipywidgets](https://github.com/jupyter-widgets/ipywidgets)\n",
    "* In Entwicklung\n",
    "    * [RISE](https://github.com/lsst-sqre/RISE/tree/jupyterlab_extension/jupyterlab/jupyterlab_rise)\n",
    "    * [Google Docs Collaboration](https://github.com/jupyterlab/jupyterlab-google-drive/issues/108)\n",
    "    * [Variable Inspector](https://github.com/lckr/jupyterlab-variableInspector)\n",
    "    * [Monaco Editor](https://github.com/jupyterlab/jupyterlab-monaco)\n"
   ]
  },
  {
   "cell_type": "markdown",
   "metadata": {
    "slideshow": {
     "slide_type": "subslide"
    }
   },
   "source": [
    "### Install Plugins\n",
    "\n",
    "\n",
    "Entweder direkt **via Terminal**\n",
    "```\n",
    "jupyter labextension install @jupyterlab/<your-plugin-name>\n",
    "```\n",
    "\n",
    "oder über den **Extension Manager**\n",
    "\n",
    "```\n",
    "Settings > Extension Manager:\n",
    "\n",
    "{\n",
    "    \"enabled\": true\n",
    "}\n",
    "```"
   ]
  },
  {
   "cell_type": "markdown",
   "metadata": {
    "slideshow": {
     "slide_type": "subslide"
    }
   },
   "source": [
    "### Standard-Tastaturbefehle"
   ]
  },
  {
   "cell_type": "markdown",
   "metadata": {
    "slideshow": {
     "slide_type": "fragment"
    }
   },
   "source": [
    "Command  | Shortcut\n",
    "------------- | -------------\n",
    "Command Palette |`Accel Shift C`\n",
    "File Explorer |`Accel Shift F`\n",
    "Toggle Bar |`Accel B`\n",
    "Fullscreen Mode |`Accel Shift D`\n",
    "Close Tab |`Ctrl Q`\n",
    "Launcher |`Accel Shift L`"
   ]
  },
  {
   "cell_type": "markdown",
   "metadata": {
    "slideshow": {
     "slide_type": "subslide"
    }
   },
   "source": [
    "## Eigenes Schreiben\n",
    "\n",
    "![Eigenes Schreiben](./img/write.jpg)"
   ]
  },
  {
   "cell_type": "markdown",
   "metadata": {
    "slideshow": {
     "slide_type": "subslide"
    }
   },
   "source": [
    "### Eigene Tatstenkürzel"
   ]
  },
  {
   "cell_type": "markdown",
   "metadata": {
    "slideshow": {
     "slide_type": "subslide"
    }
   },
   "source": [
    "Settings > Keyboard Shortcuts\n",
    "```\n",
    "{\n",
    "    \"notebook:move-cell-up\": {\n",
    "      \"command\": \"notebook:move-cell-up\",\n",
    "      \"keys\": [\n",
    "        \"Accel Alt ArrowUp\"\n",
    "      ],\n",
    "      \"selector\": \"body\"\n",
    "    },\n",
    "    \"notebook:move-cell-down\": {\n",
    "      \"command\": \"notebook:move-cell-down\",\n",
    "      \"keys\": [\n",
    "        \"Accel Alt ArrowDown\"\n",
    "      ],\n",
    "      \"selector\": \"body\"\n",
    "    }        \n",
    "}\n",
    "```"
   ]
  },
  {
   "cell_type": "markdown",
   "metadata": {
    "slideshow": {
     "slide_type": "slide"
    }
   },
   "source": [
    "# Der Hauptteil"
   ]
  },
  {
   "cell_type": "markdown",
   "metadata": {
    "slideshow": {
     "slide_type": "subslide"
    }
   },
   "source": [
    "## Exploration"
   ]
  },
  {
   "cell_type": "markdown",
   "metadata": {
    "slideshow": {
     "slide_type": "fragment"
    }
   },
   "source": [
    "Wir nutzen zur Demo die [\"New York City Taxi Fare Prediction\" Kaggle Challenge](https://www.kaggle.com/c/new-york-city-taxi-fare-prediction). Der vollständige Datensatz findet sich dort, in diesem Repo findet sich nur ein minimaler Demo-Datensatz!\n",
    "\n",
    "Außerdem ist der Ablauf stark inspiriert von [Warlk Trough Artikel von William Koehrsen](https://towardsdatascience.com/another-machine-learning-walk-through-and-a-challenge-8fae1e187a64), mehr inhaltliche Infos dort."
   ]
  },
  {
   "cell_type": "code",
   "execution_count": null,
   "metadata": {
    "slideshow": {
     "slide_type": "subslide"
    }
   },
   "outputs": [],
   "source": [
    "%load ./imports.py"
   ]
  },
  {
   "cell_type": "code",
   "execution_count": null,
   "metadata": {
    "slideshow": {
     "slide_type": "fragment"
    }
   },
   "outputs": [],
   "source": [
    "data = pd.read_csv('input/train.csv', nrows = 50000, parse_dates = ['pickup_datetime']).drop(columns = 'key')\n",
    "\n",
    "# Remove na\n",
    "data = data.dropna()\n",
    "data.head()"
   ]
  },
  {
   "cell_type": "markdown",
   "metadata": {
    "slideshow": {
     "slide_type": "subslide"
    }
   },
   "source": [
    "### Daten verstehen\n",
    "\n",
    "Der Datensatz besteht im wesentlichen aus nummerischen Werten, entsprechend bietet sich die `.describe()` Methode an, um eine statistische Zusammenfassung zu erhalten. Insbesondere Max- und Minimalwerte sind zur Outlierbestimmung hilfreichen."
   ]
  },
  {
   "cell_type": "code",
   "execution_count": null,
   "metadata": {
    "slideshow": {
     "slide_type": "fragment"
    }
   },
   "outputs": [],
   "source": [
    "data.info()"
   ]
  },
  {
   "cell_type": "code",
   "execution_count": null,
   "metadata": {
    "slideshow": {
     "slide_type": "fragment"
    }
   },
   "outputs": [],
   "source": [
    "data.describe()"
   ]
  },
  {
   "cell_type": "markdown",
   "metadata": {
    "slideshow": {
     "slide_type": "subslide"
    }
   },
   "source": [
    "### Pandas Profiling"
   ]
  },
  {
   "cell_type": "code",
   "execution_count": null,
   "metadata": {
    "slideshow": {
     "slide_type": "subslide"
    }
   },
   "outputs": [],
   "source": [
    "#pandas_profiling.ProfileReport(data)\n",
    "import os\n",
    "if not 'workbookDir' in globals():\n",
    "    workbookDir = os.getcwd()\n",
    "import pandas_profiling\n",
    "profile = pandas_profiling.ProfileReport(data)\n",
    "print(workbookDir)\n",
    "profile.to_file(outputfile=workbookDir+\"/output/data_report.html\")"
   ]
  },
  {
   "cell_type": "code",
   "execution_count": null,
   "metadata": {
    "slideshow": {
     "slide_type": "skip"
    }
   },
   "outputs": [],
   "source": [
    "%%! \n",
    "open \"$(pwd)/data_report.html\""
   ]
  },
  {
   "cell_type": "markdown",
   "metadata": {
    "slideshow": {
     "slide_type": "subslide"
    }
   },
   "source": [
    "### View Map Data"
   ]
  },
  {
   "cell_type": "code",
   "execution_count": null,
   "metadata": {
    "slideshow": {
     "slide_type": "fragment"
    }
   },
   "outputs": [],
   "source": [
    "from IPython.display import GeoJSON\n",
    "point = data.sample(1)\n",
    "GeoJSON({\n",
    "    \"type\": \"Feature\",\n",
    "    \"geometry\": {\n",
    "      \"type\": \"LineString\",\n",
    "    \"coordinates\": [\n",
    "        [point.pickup_longitude.values[0], point.pickup_latitude.values[0]],\n",
    "        [point.dropoff_longitude.values[0], point.dropoff_latitude.values[0]]\n",
    "       ]\n",
    "    }\n",
    "})"
   ]
  },
  {
   "cell_type": "markdown",
   "metadata": {
    "slideshow": {
     "slide_type": "subslide"
    }
   },
   "source": [
    "**Unser Standort**"
   ]
  },
  {
   "cell_type": "code",
   "execution_count": null,
   "metadata": {
    "slideshow": {
     "slide_type": "fragment"
    }
   },
   "outputs": [],
   "source": [
    "from IPython.display import GeoJSON\n",
    "GeoJSON({\n",
    "    \"type\": \"Feature\",\n",
    "    \"geometry\": {\n",
    "      \"type\": \"Point\",\n",
    "    \"coordinates\": [8.677636, 49.404927]\n",
    "    }\n",
    "})"
   ]
  },
  {
   "cell_type": "markdown",
   "metadata": {
    "slideshow": {
     "slide_type": "slide"
    }
   },
   "source": [
    "### Great Expectations"
   ]
  },
  {
   "cell_type": "markdown",
   "metadata": {
    "slideshow": {
     "slide_type": "fragment"
    }
   },
   "source": [
    "Machine Learning Models werden nicht nur von den Parametern bzw. vom Quellcode bestimmt, sondern genauso von den Trainingsdaten. Während das Testen von Quellcode inzwischen gängige Praxis ist, werden Daten häufig als gegeben angenommen. Mehr unter [\"Down with Pipeline Dept\"](https://medium.com/@expectgreatdata/down-with-pipeline-debt-introducing-great-expectations-862ddc46782a)."
   ]
  },
  {
   "cell_type": "code",
   "execution_count": null,
   "metadata": {
    "slideshow": {
     "slide_type": "subslide"
    }
   },
   "outputs": [],
   "source": [
    "import great_expectations as ge\n",
    "sample = ge.read_csv('input/train.csv', nrows = 2000).drop(columns = 'key')"
   ]
  },
  {
   "cell_type": "code",
   "execution_count": null,
   "metadata": {
    "slideshow": {
     "slide_type": "skip"
    }
   },
   "outputs": [],
   "source": [
    "sample.head()"
   ]
  },
  {
   "cell_type": "code",
   "execution_count": null,
   "metadata": {
    "slideshow": {
     "slide_type": "fragment"
    }
   },
   "outputs": [],
   "source": [
    "sample.expect_column_values_to_be_of_type(\"fare_amount\",\"float\")"
   ]
  },
  {
   "cell_type": "code",
   "execution_count": null,
   "metadata": {
    "slideshow": {
     "slide_type": "fragment"
    }
   },
   "outputs": [],
   "source": [
    "sample.expect_column_values_to_be_between(\"fare_amount\",min_value=1,max_value=100)"
   ]
  },
  {
   "cell_type": "markdown",
   "metadata": {},
   "source": [
    "#### Existierende Expectations auf neue Daten anwenden"
   ]
  },
  {
   "cell_type": "code",
   "execution_count": null,
   "metadata": {},
   "outputs": [],
   "source": [
    "sample.save_expectations_config(\"taxi-expectations.json\")"
   ]
  },
  {
   "cell_type": "code",
   "execution_count": null,
   "metadata": {},
   "outputs": [],
   "source": [
    "import json\n",
    "my_expectations_config = json.load(open(\"taxi-expectations.json\"))\n",
    "full = ge.read_csv(\n",
    "    'input/train.csv', \n",
    "    nrows = 250000,\n",
    "    expectations_config=my_expectations_config\n",
    ").drop(columns = 'key')"
   ]
  },
  {
   "cell_type": "code",
   "execution_count": null,
   "metadata": {},
   "outputs": [],
   "source": [
    "import pprint\n",
    "pp = pprint.PrettyPrinter(indent=2)\n",
    "pp.pprint(full.validate())"
   ]
  },
  {
   "cell_type": "code",
   "execution_count": null,
   "metadata": {},
   "outputs": [],
   "source": [
    "full = full.drop(df[df['fare_amount']>0].index)"
   ]
  },
  {
   "cell_type": "markdown",
   "metadata": {
    "slideshow": {
     "slide_type": "skip"
    }
   },
   "source": [
    "## Feature Engineering"
   ]
  },
  {
   "cell_type": "markdown",
   "metadata": {
    "slideshow": {
     "slide_type": "skip"
    }
   },
   "source": [
    "Offensichtlich hängt der Preis einer Taxi-Fahrt von Dauer und Streckenlänge ab. Da sich anhand der gegebenen Werte nur letzteres direkt berechnen lässt ist dies offentlich ein wichtiges Feature. Zur Annährung bietet sich die relativ einfache [Minoski-Metrik](https://de.wikipedia.org/wiki/Minkowski-Raum) an. "
   ]
  },
  {
   "cell_type": "code",
   "execution_count": null,
   "metadata": {
    "slideshow": {
     "slide_type": "skip"
    }
   },
   "outputs": [],
   "source": [
    "def minkowski_distance(x1, x2, y1, y2, p):\n",
    "    return ((abs(x2 - x1) ** p) + (abs(y2 - y1)) ** p) ** (1 / p)\n",
    "\n",
    "data['manhattan'] = minkowski_distance(data['pickup_longitude'], data['dropoff_longitude'],\n",
    "                                       data['pickup_latitude'], data['dropoff_latitude'], 1)\n",
    "\n",
    "data['euklidean'] = minkowski_distance(data['pickup_longitude'], data['dropoff_longitude'],\n",
    "                                       data['pickup_latitude'], data['dropoff_latitude'], 2)"
   ]
  },
  {
   "cell_type": "markdown",
   "metadata": {
    "slideshow": {
     "slide_type": "skip"
    }
   },
   "source": [
    "Die korrekte Berechnung der Luftlinienverbindung hingegen ist aufgrund der Erdkrümmung deutlich komplizierter:"
   ]
  },
  {
   "cell_type": "code",
   "execution_count": null,
   "metadata": {
    "slideshow": {
     "slide_type": "skip"
    }
   },
   "outputs": [],
   "source": [
    "# Radius of the earth in kilometers\n",
    "R = 6378\n",
    "\n",
    "def haversine_np(lon1, lat1, lon2, lat2):\n",
    "    \"\"\"\n",
    "    Calculate the great circle distance between two points\n",
    "    on the earth (specified in decimal degrees)\n",
    "\n",
    "    All args must be of equal length.    \n",
    "    \n",
    "    source: https://stackoverflow.com/a/29546836\n",
    "\n",
    "    \"\"\"\n",
    "    # Convert latitude and longitude to radians\n",
    "    lon1, lat1, lon2, lat2 = map(np.radians, [lon1, lat1, lon2, lat2])\n",
    "\n",
    "    # Find the differences\n",
    "    dlon = lon2 - lon1\n",
    "    dlat = lat2 - lat1\n",
    "\n",
    "    # Apply the formula \n",
    "    a = np.sin(dlat/2.0)**2 + np.cos(lat1) * np.cos(lat2) * np.sin(dlon/2.0)**2\n",
    "    # Calculate the angle (in radians)\n",
    "    c = 2 * np.arcsin(np.sqrt(a))\n",
    "    # Convert to kilometers\n",
    "    km = R * c\n",
    "    \n",
    "    return km\n",
    "\n",
    "data['haversine'] =  haversine_np(data['pickup_longitude'], data['pickup_latitude'],\n",
    "                         data['dropoff_longitude'], data['dropoff_latitude']) "
   ]
  },
  {
   "cell_type": "code",
   "execution_count": null,
   "metadata": {
    "slideshow": {
     "slide_type": "skip"
    }
   },
   "outputs": [],
   "source": [
    "data.head()"
   ]
  },
  {
   "cell_type": "markdown",
   "metadata": {
    "slideshow": {
     "slide_type": "subslide"
    }
   },
   "source": [
    "### Quellcode organisieren"
   ]
  },
  {
   "cell_type": "code",
   "execution_count": null,
   "metadata": {
    "slideshow": {
     "slide_type": "subslide"
    }
   },
   "outputs": [],
   "source": [
    "%%writefile featureengineering/distance.py\n",
    "# Radius of the earth in kilometers\n",
    "R = 6378\n",
    "import numpy as np\n",
    "def haversine_np(lon1, lat1, lon2, lat2):\n",
    "    \"\"\"\n",
    "    Calculate the great circle distance between two points\n",
    "    on the earth (specified in decimal degrees)\n",
    "\n",
    "    All args must be of equal length.    \n",
    "    \n",
    "    source: https://stackoverflow.com/a/29546836\n",
    "\n",
    "    \"\"\"\n",
    "    # Convert latitude and longitude to radians\n",
    "    lon1, lat1, lon2, lat2 = map(np.radians, [lon1, lat1, lon2, lat2])\n",
    "\n",
    "    # Find the differences\n",
    "    dlon = lon2 - lon1\n",
    "    dlat = lat2 - lat1\n",
    "\n",
    "    # Apply the formula \n",
    "    a = np.sin(dlat/2.0)**2 + np.cos(lat1) * np.cos(lat2) * np.sin(dlon/2.0)**2\n",
    "    # Calculate the angle (in radians)\n",
    "    c = 2 * np.arcsin(np.sqrt(a))\n",
    "    # Convert to kilometers\n",
    "    km = R * c\n",
    "    \n",
    "    return km"
   ]
  },
  {
   "cell_type": "code",
   "execution_count": null,
   "metadata": {
    "slideshow": {
     "slide_type": "subslide"
    }
   },
   "outputs": [],
   "source": [
    "from featureengineering.distance import haversine_np"
   ]
  },
  {
   "cell_type": "code",
   "execution_count": null,
   "metadata": {
    "slideshow": {
     "slide_type": "subslide"
    }
   },
   "outputs": [],
   "source": [
    "data['haversine'] =  haversine_np(data['pickup_longitude'], data['pickup_latitude'],\n",
    "                         data['dropoff_longitude'], data['dropoff_latitude']) \n",
    "data.head()"
   ]
  },
  {
   "cell_type": "code",
   "execution_count": null,
   "metadata": {
    "slideshow": {
     "slide_type": "subslide"
    }
   },
   "outputs": [],
   "source": [
    "%load_ext autoreload\n",
    "\n",
    "%autoreload 2"
   ]
  },
  {
   "cell_type": "markdown",
   "metadata": {
    "slideshow": {
     "slide_type": "skip"
    }
   },
   "source": [
    "## Model Training"
   ]
  },
  {
   "cell_type": "markdown",
   "metadata": {
    "slideshow": {
     "slide_type": "skip"
    }
   },
   "source": [
    "![correlation](./img/correlation.png)"
   ]
  },
  {
   "cell_type": "markdown",
   "metadata": {
    "slideshow": {
     "slide_type": "slide"
    }
   },
   "source": [
    "## Ergebnispräsentation"
   ]
  },
  {
   "cell_type": "markdown",
   "metadata": {
    "slideshow": {
     "slide_type": "subslide"
    }
   },
   "source": [
    "### Reveal.js"
   ]
  },
  {
   "cell_type": "markdown",
   "metadata": {
    "slideshow": {
     "slide_type": "fragment"
    }
   },
   "source": [
    "Darstellung eines Notebooks als interaktive Präsentation mit Hilfe von Reveal.js. Dabei kann jede Zelle als eigene Slide, Sub-Slide oder Fragment definiert werden."
   ]
  },
  {
   "cell_type": "markdown",
   "metadata": {
    "slideshow": {
     "slide_type": "subslide"
    }
   },
   "source": [
    "### Binder\n",
    "\n",
    "* Interaktives Bereitstellen von Notebooks via Github Repo\n",
    "* Inklusive Abhängigkeiten und Erweiterungen\n",
    "* [Integration via Github](https://github.com/krlng/d2d-jupyterlab)"
   ]
  },
  {
   "cell_type": "markdown",
   "metadata": {
    "slideshow": {
     "slide_type": "slide"
    }
   },
   "source": [
    "# Meine Rezension \n",
    "\n",
    "\n",
    "<p>\n",
    "&starf;\n",
    "&starf;\n",
    "&starf;\n",
    "&starf;\n",
    "&starf;\n",
    "&starf;\n",
    "&starf;\n",
    "&starf;\n",
    "&star;\n",
    "(9/10) </p> "
   ]
  },
  {
   "cell_type": "markdown",
   "metadata": {
    "slideshow": {
     "slide_type": "fragment"
    }
   },
   "source": [
    "**lobend hervorzuheben**\n",
    "    * Die neue Oberfläche\n",
    "    * Unterstützung unterschiedlicher Formate\n",
    "    * Plugin-System\n",
    "**weitere Wünsche**\n",
    "    * Mächtigeren Zelleditor\n",
    "    * Kompatiblität mit alten Erweiterungen\n",
    "    * Multi-User Editing"
   ]
  }
 ],
 "metadata": {
  "kernelspec": {
   "display_name": "Python 3",
   "language": "python",
   "name": "python3"
  },
  "language_info": {
   "codemirror_mode": {
    "name": "ipython",
    "version": 3
   },
   "file_extension": ".py",
   "mimetype": "text/x-python",
   "name": "python",
   "nbconvert_exporter": "python",
   "pygments_lexer": "ipython3",
   "version": "3.6.6"
  },
  "toc-autonumbering": false,
  "toc-showcode": false,
  "toc-showmarkdowntxt": false,
  "toc-showtags": false
 },
 "nbformat": 4,
 "nbformat_minor": 2
}
