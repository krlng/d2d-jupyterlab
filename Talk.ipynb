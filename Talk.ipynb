{
 "cells": [
  {
   "cell_type": "markdown",
   "metadata": {
    "slideshow": {
     "slide_type": "slide"
    }
   },
   "source": [
    "<div style=\"display: inline-block; float:left; width: 50%\">\n",
    "<img src=\"img/jupyter-logo.png\" width=\"300px\"/>\n",
    "</div>\n",
    "<div style=\"float: left; width: 50%\">\n",
    "    <h1>PyData Workflow mit Jupyter Lab</h1>\n",
    "    <h3>Meine Noitzen zur nächsten Generation Notebooks</h3>\n",
    "    <div><br>\n",
    "    <p><cite>\"I’m extremely excited the potential of JupyterLab. I have a high level of confidence in the team who is making this possible\"</cite> - <a href=\"https://medium.com/@brianray_7981/jupyterlab-first-impressions-e6d70d8a175d\">Brian Ray</a></p>\n",
    "    <p><cite>\"Finally a tool where I can do all my work. And yes, I have worked with Emacs.\"</cite> - <a href=\"https://medium.com/@boyanangelov/is-this-the-best-data-science-ide-jupyter-lab-review-fdd165470f13\">Boyan Angelov, Data Scientist @mindmatch.ai</a></p>\n",
    "        </div>\n",
    "</div>"
   ]
  },
  {
   "cell_type": "markdown",
   "metadata": {
    "slideshow": {
     "slide_type": "subslide"
    }
   },
   "source": [
    "## Über den Autor\n",
    "\n",
    "![Some pic of me](http://nico.kreiling.family/assets/img/me.png)\n",
    "\n",
    "**Nico Kreiling**\n",
    "* \"Big Data Scientist\" @ [inovex](https://www.inovex.de/de/)\n",
    "* Hadoop, Data Science, Kubernetes, Cloud\n",
    "* Tech-Podcast für Entwickler: [inoTecCast](https://inoteccast.de/)\n",
    "* Meine Tech Talks auf [https://github.com/krlng/techtalks](https://github.com/krlng/techtalks)"
   ]
  },
  {
   "cell_type": "markdown",
   "metadata": {
    "slideshow": {
     "slide_type": "slide"
    }
   },
   "source": [
    "# Kapitelübersicht\n",
    "\n",
    "* Notebooks im Allgeinen\n",
    "* Einführung in Jupyter Lab\n",
    "* Individualisieren\n",
    "    * Tastaturkürzel\n",
    "    * die besten Plugins\n",
    "    * Plugins schreiben\n",
    "* Workflow Demo\n",
    "    * Datenexploration\n",
    "    * Algorithemn Entwicklung\n",
    "    * Ergebnisse teilen\n",
    "* Fazit"
   ]
  },
  {
   "cell_type": "markdown",
   "metadata": {
    "slideshow": {
     "slide_type": "slide"
    }
   },
   "source": [
    "# Notebooks - Autobiographisch"
   ]
  },
  {
   "cell_type": "markdown",
   "metadata": {
    "slideshow": {
     "slide_type": "subslide"
    }
   },
   "source": [
    "## Die guten Seiten\n",
    "\n",
    "* Übersichtlich Darstellung\n",
    "* interaktive und intuitive Bedienung\n",
    "* Gut für explorative Analysen und Trainings"
   ]
  },
  {
   "cell_type": "markdown",
   "metadata": {
    "slideshow": {
     "slide_type": "subslide"
    }
   },
   "source": [
    "## Die schlechten Seiten\n",
    "\n",
    "* Ausführungsreihenfolge ist wichtig\n",
    "* Meist spätere Re-Implementierung notwendig\n",
    "* Weniger Entwicklugnssupport als in IDEs"
   ]
  },
  {
   "cell_type": "markdown",
   "metadata": {
    "slideshow": {
     "slide_type": "subslide"
    }
   },
   "source": [
    "## Die Bestseller\n",
    "\n",
    "* Jupyter \n",
    "    * Jupyter Notebooks\n",
    "    * JupyterLab\n",
    "    * JupyterHub\n",
    "* [Zeppelin](https://zeppelin.apache.org/)\n",
    "* [Cloud Datalab (Google)](https://cloud.google.com/datalab/), [Watson Studio](https://www.ibm.com/cloud/watson-studio) ..."
   ]
  },
  {
   "cell_type": "markdown",
   "metadata": {
    "slideshow": {
     "slide_type": "slide"
    }
   },
   "source": [
    "# Jupyter Lab - Die Einleitung"
   ]
  },
  {
   "cell_type": "markdown",
   "metadata": {
    "slideshow": {
     "slide_type": "subslide"
    }
   },
   "source": [
    "## Was bisher geschah\n",
    "\n",
    "* Neu-Implementierung der Jupyter Notebooks\n",
    "* Seit 3 Jahren von 100 Contributors\n",
    "* 60 components, 12.000 commits\n",
    "* [Public seit Februar](https://blog.jupyter.org/jupyterlab-is-ready-for-users-5a6f039b8906)\n",
    "* [1.0](https://github.com/jupyterlab/jupyterlab/milestone/2) vermutlich November\n"
   ]
  },
  {
   "cell_type": "markdown",
   "metadata": {
    "slideshow": {
     "slide_type": "subslide"
    }
   },
   "source": [
    "## Das Wichtigste\n",
    "\n",
    "* Neues UI & UX\n",
    "* Window Management\n",
    "* Datei-Explorer & Terminal\n",
    "* Erweiterte CSV und Markdown Unterstützung\n",
    "* Collapsible Cells & Dark Theme"
   ]
  },
  {
   "cell_type": "markdown",
   "metadata": {
    "slideshow": {
     "slide_type": "slide"
    }
   },
   "source": [
    "# Der Schlüssel zur Produktivität"
   ]
  },
  {
   "cell_type": "markdown",
   "metadata": {},
   "source": [
    "* JupyterLab entworfen als Plugin-Kompositum\n",
    "* Moderne Technologie-Stack (JavaScript, [YARN](https://yarnpkg.com/en/))\n",
    "* Aber [nbextensions](https://github.com/ipython-contrib/jupyter_contrib_nbextensions) nicht kompatibel"
   ]
  },
  {
   "cell_type": "markdown",
   "metadata": {
    "slideshow": {
     "slide_type": "subslide"
    }
   },
   "source": [
    "## Bestehendes kennen\n",
    "\n",
    "![Know your tools](./img/suit1.jpg)"
   ]
  },
  {
   "cell_type": "markdown",
   "metadata": {
    "slideshow": {
     "slide_type": "subslide"
    }
   },
   "source": [
    "### Standard-Taturbefehle"
   ]
  },
  {
   "cell_type": "markdown",
   "metadata": {
    "slideshow": {
     "slide_type": "fragment"
    }
   },
   "source": [
    "Command  | Shortcut\n",
    "------------- | -------------\n",
    "Command Palette |`Accel Shift C`\n",
    "File Explorer |`Accel Shift F`\n",
    "Toggle Bar |`Accel B`\n",
    "Fullscreen Mode |`Accel Shift D`\n",
    "Close Tab |`Ctrl Q`\n",
    "Launcher |`Accel Shift L`"
   ]
  },
  {
   "cell_type": "markdown",
   "metadata": {
    "slideshow": {
     "slide_type": "subslide"
    }
   },
   "source": [
    "## Bestehendes erweitern\n",
    "\n",
    "![Tweak your tools](./img/suit2.jpg)"
   ]
  },
  {
   "cell_type": "markdown",
   "metadata": {},
   "source": [
    "### Eigene Tatstenkürzel"
   ]
  },
  {
   "cell_type": "markdown",
   "metadata": {
    "slideshow": {
     "slide_type": "subslide"
    }
   },
   "source": [
    "Settings > Keyboard Shortcuts\n",
    "```\n",
    "{\n",
    "    \"notebook:move-cell-up\": {\n",
    "      \"command\": \"notebook:move-cell-up\",\n",
    "      \"keys\": [\n",
    "        \"Accel Alt ArrowUp\"\n",
    "      ],\n",
    "      \"selector\": \"body\"\n",
    "    },\n",
    "    \"notebook:move-cell-down\": {\n",
    "      \"command\": \"notebook:move-cell-down\",\n",
    "      \"keys\": [\n",
    "        \"Accel Alt ArrowDown\"\n",
    "      ],\n",
    "      \"selector\": \"body\"\n",
    "    }        \n",
    "}\n",
    "```"
   ]
  },
  {
   "cell_type": "markdown",
   "metadata": {
    "slideshow": {
     "slide_type": "subslide"
    }
   },
   "source": [
    "### Nützliche Plugins\n",
    "\n",
    "* Graphische Erweiterungen\n",
    "    * [Git](https://github.com/jupyterlab/jupyterlab-git)\n",
    "    * [toc](https://github.com/jupyterlab/jupyterlab-toc)\n",
    "    * [Bokeh](https://github.com/bokeh/jupyterlab_bokeh)\n",
    "    * [Tensorboard](https://github.com/chaoleili/jupyterlab_tensorboard)\n",
    "* Erweiterte Datentypen\n",
    "    * [Latex](https://github.com/jupyterlab/jupyterlab-latex)\n",
    "    * [HTML Files](https://github.com/mflevine/jupyterlab_html)\n",
    "    * [Drawio](https://github.com/QuantStack/jupyterlab-drawio)\n",
    "    * [Geo-Suppoert](https://github.com/jupyterlab/jupyter-renderers)\n",
    "* In Entwicklung\n",
    "    * [RISE](https://github.com/lsst-sqre/RISE/tree/jupyterlab_extension/jupyterlab/jupyterlab_rise)\n",
    "    * [Google Docs Collaboration](https://github.com/jupyterlab/jupyterlab-google-drive/issues/108)\n",
    "    * [Variable Inspector](https://github.com/lckr/jupyterlab-variableInspector)\n",
    "    * [Monaco Editor](https://github.com/jupyterlab/jupyterlab-monaco)\n"
   ]
  },
  {
   "cell_type": "markdown",
   "metadata": {
    "slideshow": {
     "slide_type": "subslide"
    }
   },
   "source": [
    "### Install Plugins\n",
    "\n",
    "\n",
    "Entweder direkt **via Terminal**\n",
    "```\n",
    "jupyter labextension install @jupyterlab/<your-plugin-name>\n",
    "```\n",
    "\n",
    "oder über den **Extension Manager**\n",
    "\n",
    "```\n",
    "Settings > Extension Manager:\n",
    "\n",
    "{\n",
    "    \"enabled\": true\n",
    "}\n",
    "```"
   ]
  },
  {
   "cell_type": "markdown",
   "metadata": {
    "slideshow": {
     "slide_type": "subslide"
    }
   },
   "source": [
    "## Make your Tools\n",
    "\n",
    "![Make your tools](./img/suit3.jpg)"
   ]
  },
  {
   "cell_type": "markdown",
   "metadata": {
    "slideshow": {
     "slide_type": "slide"
    }
   },
   "source": [
    "# Der Hauptteil"
   ]
  },
  {
   "cell_type": "markdown",
   "metadata": {
    "slideshow": {
     "slide_type": "subslide"
    }
   },
   "source": [
    "## Exploration"
   ]
  },
  {
   "cell_type": "markdown",
   "metadata": {},
   "source": [
    "Wir nutzen zur Demo die [\"New York City Taxi Fare Prediction\" Kaggle Challenge](https://www.kaggle.com/c/new-york-city-taxi-fare-prediction). Der vollständige Datensatz findet sich dort, in diesem Repo findet sich nur ein minimaler Demo-Datensatz!"
   ]
  },
  {
   "cell_type": "code",
   "execution_count": 13,
   "metadata": {
    "slideshow": {
     "slide_type": "subslide"
    }
   },
   "outputs": [],
   "source": [
    "# %load ./imports.py\n",
    "import os\n",
    "from datetime import datetime as dt\n",
    "\n",
    "import numpy as np\n",
    "import pandas as pd\n",
    "import sklearn as skl\n",
    "\n",
    "# Pandas display options\n",
    "pd.set_option('display.float_format', lambda x: '%.3f' % x)\n",
    "import IPython.display as ipd\n",
    "\n",
    "# Set random seed \n",
    "RSEED = 42\n",
    "\n",
    "# Visualizations\n",
    "import matplotlib.pyplot as plt\n",
    "plt.rcParams['figure.figsize'] = (25, 5)\n",
    "%matplotlib inline\n",
    "#plt.style.use('fivethirtyeight')\n",
    "plt.rcParams['font.size'] = 18\n",
    "\n",
    "import seaborn as sns\n",
    "cm = sns.light_palette(\"green\", as_cmap=True)"
   ]
  },
  {
   "cell_type": "code",
   "execution_count": 34,
   "metadata": {
    "slideshow": {
     "slide_type": "subslide"
    }
   },
   "outputs": [
    {
     "data": {
      "text/html": [
       "<div>\n",
       "<style scoped>\n",
       "    .dataframe tbody tr th:only-of-type {\n",
       "        vertical-align: middle;\n",
       "    }\n",
       "\n",
       "    .dataframe tbody tr th {\n",
       "        vertical-align: top;\n",
       "    }\n",
       "\n",
       "    .dataframe thead th {\n",
       "        text-align: right;\n",
       "    }\n",
       "</style>\n",
       "<table border=\"1\" class=\"dataframe\">\n",
       "  <thead>\n",
       "    <tr style=\"text-align: right;\">\n",
       "      <th></th>\n",
       "      <th>fare_amount</th>\n",
       "      <th>pickup_datetime</th>\n",
       "      <th>pickup_longitude</th>\n",
       "      <th>pickup_latitude</th>\n",
       "      <th>dropoff_longitude</th>\n",
       "      <th>dropoff_latitude</th>\n",
       "      <th>passenger_count</th>\n",
       "    </tr>\n",
       "  </thead>\n",
       "  <tbody>\n",
       "    <tr>\n",
       "      <th>0</th>\n",
       "      <td>4.500</td>\n",
       "      <td>2009-06-15 17:26:21</td>\n",
       "      <td>-73.844</td>\n",
       "      <td>40.721</td>\n",
       "      <td>-73.842</td>\n",
       "      <td>40.712</td>\n",
       "      <td>1</td>\n",
       "    </tr>\n",
       "    <tr>\n",
       "      <th>1</th>\n",
       "      <td>16.900</td>\n",
       "      <td>2010-01-05 16:52:16</td>\n",
       "      <td>-74.016</td>\n",
       "      <td>40.711</td>\n",
       "      <td>-73.979</td>\n",
       "      <td>40.782</td>\n",
       "      <td>1</td>\n",
       "    </tr>\n",
       "    <tr>\n",
       "      <th>2</th>\n",
       "      <td>5.700</td>\n",
       "      <td>2011-08-18 00:35:00</td>\n",
       "      <td>-73.983</td>\n",
       "      <td>40.761</td>\n",
       "      <td>-73.991</td>\n",
       "      <td>40.751</td>\n",
       "      <td>2</td>\n",
       "    </tr>\n",
       "    <tr>\n",
       "      <th>3</th>\n",
       "      <td>7.700</td>\n",
       "      <td>2012-04-21 04:30:42</td>\n",
       "      <td>-73.987</td>\n",
       "      <td>40.733</td>\n",
       "      <td>-73.992</td>\n",
       "      <td>40.758</td>\n",
       "      <td>1</td>\n",
       "    </tr>\n",
       "    <tr>\n",
       "      <th>4</th>\n",
       "      <td>5.300</td>\n",
       "      <td>2010-03-09 07:51:00</td>\n",
       "      <td>-73.968</td>\n",
       "      <td>40.768</td>\n",
       "      <td>-73.957</td>\n",
       "      <td>40.784</td>\n",
       "      <td>1</td>\n",
       "    </tr>\n",
       "  </tbody>\n",
       "</table>\n",
       "</div>"
      ],
      "text/plain": [
       "   fare_amount     pickup_datetime  pickup_longitude  pickup_latitude  \\\n",
       "0        4.500 2009-06-15 17:26:21           -73.844           40.721   \n",
       "1       16.900 2010-01-05 16:52:16           -74.016           40.711   \n",
       "2        5.700 2011-08-18 00:35:00           -73.983           40.761   \n",
       "3        7.700 2012-04-21 04:30:42           -73.987           40.733   \n",
       "4        5.300 2010-03-09 07:51:00           -73.968           40.768   \n",
       "\n",
       "   dropoff_longitude  dropoff_latitude  passenger_count  \n",
       "0            -73.842            40.712                1  \n",
       "1            -73.979            40.782                1  \n",
       "2            -73.991            40.751                2  \n",
       "3            -73.992            40.758                1  \n",
       "4            -73.957            40.784                1  "
      ]
     },
     "execution_count": 34,
     "metadata": {},
     "output_type": "execute_result"
    }
   ],
   "source": [
    "#data = pd.read_csv('input/train.csv', nrows = 50000, parse_dates = ['pickup_datetime']).drop(columns = 'key')\n",
    "data = pd.read_csv('data/sample.csv', nrows = 50000, parse_dates = ['pickup_datetime']).drop(columns = 'key')\n",
    "\n",
    "# Remove na\n",
    "data = data.dropna()\n",
    "data.head()"
   ]
  },
  {
   "cell_type": "markdown",
   "metadata": {},
   "source": [
    "### Describe Data\n",
    "\n",
    "An effective method for catching outliers and anomalies is to find the summary statistics for the data using the `.describe()` method. I like to concentrate on the maxes and the minimums for finding outliers."
   ]
  },
  {
   "cell_type": "code",
   "execution_count": 15,
   "metadata": {},
   "outputs": [
    {
     "name": "stdout",
     "output_type": "stream",
     "text": [
      "<class 'pandas.core.frame.DataFrame'>\n",
      "Int64Index: 50000 entries, 0 to 49999\n",
      "Data columns (total 7 columns):\n",
      "fare_amount          50000 non-null float64\n",
      "pickup_datetime      50000 non-null datetime64[ns]\n",
      "pickup_longitude     50000 non-null float64\n",
      "pickup_latitude      50000 non-null float64\n",
      "dropoff_longitude    50000 non-null float64\n",
      "dropoff_latitude     50000 non-null float64\n",
      "passenger_count      50000 non-null int64\n",
      "dtypes: datetime64[ns](1), float64(5), int64(1)\n",
      "memory usage: 3.1 MB\n"
     ]
    }
   ],
   "source": [
    "data.info()"
   ]
  },
  {
   "cell_type": "code",
   "execution_count": 16,
   "metadata": {
    "slideshow": {
     "slide_type": "subslide"
    }
   },
   "outputs": [
    {
     "data": {
      "text/html": [
       "<div>\n",
       "<style scoped>\n",
       "    .dataframe tbody tr th:only-of-type {\n",
       "        vertical-align: middle;\n",
       "    }\n",
       "\n",
       "    .dataframe tbody tr th {\n",
       "        vertical-align: top;\n",
       "    }\n",
       "\n",
       "    .dataframe thead th {\n",
       "        text-align: right;\n",
       "    }\n",
       "</style>\n",
       "<table border=\"1\" class=\"dataframe\">\n",
       "  <thead>\n",
       "    <tr style=\"text-align: right;\">\n",
       "      <th></th>\n",
       "      <th>fare_amount</th>\n",
       "      <th>pickup_longitude</th>\n",
       "      <th>pickup_latitude</th>\n",
       "      <th>dropoff_longitude</th>\n",
       "      <th>dropoff_latitude</th>\n",
       "      <th>passenger_count</th>\n",
       "    </tr>\n",
       "  </thead>\n",
       "  <tbody>\n",
       "    <tr>\n",
       "      <th>count</th>\n",
       "      <td>50000.000</td>\n",
       "      <td>50000.000</td>\n",
       "      <td>50000.000</td>\n",
       "      <td>50000.000</td>\n",
       "      <td>50000.000</td>\n",
       "      <td>50000.000</td>\n",
       "    </tr>\n",
       "    <tr>\n",
       "      <th>mean</th>\n",
       "      <td>11.364</td>\n",
       "      <td>-72.510</td>\n",
       "      <td>39.934</td>\n",
       "      <td>-72.505</td>\n",
       "      <td>39.926</td>\n",
       "      <td>1.668</td>\n",
       "    </tr>\n",
       "    <tr>\n",
       "      <th>std</th>\n",
       "      <td>9.686</td>\n",
       "      <td>10.394</td>\n",
       "      <td>6.225</td>\n",
       "      <td>10.408</td>\n",
       "      <td>6.015</td>\n",
       "      <td>1.289</td>\n",
       "    </tr>\n",
       "    <tr>\n",
       "      <th>min</th>\n",
       "      <td>-5.000</td>\n",
       "      <td>-75.424</td>\n",
       "      <td>-74.007</td>\n",
       "      <td>-84.654</td>\n",
       "      <td>-74.006</td>\n",
       "      <td>0.000</td>\n",
       "    </tr>\n",
       "    <tr>\n",
       "      <th>25%</th>\n",
       "      <td>6.000</td>\n",
       "      <td>-73.992</td>\n",
       "      <td>40.735</td>\n",
       "      <td>-73.991</td>\n",
       "      <td>40.734</td>\n",
       "      <td>1.000</td>\n",
       "    </tr>\n",
       "    <tr>\n",
       "      <th>50%</th>\n",
       "      <td>8.500</td>\n",
       "      <td>-73.982</td>\n",
       "      <td>40.753</td>\n",
       "      <td>-73.980</td>\n",
       "      <td>40.753</td>\n",
       "      <td>1.000</td>\n",
       "    </tr>\n",
       "    <tr>\n",
       "      <th>75%</th>\n",
       "      <td>12.500</td>\n",
       "      <td>-73.967</td>\n",
       "      <td>40.767</td>\n",
       "      <td>-73.964</td>\n",
       "      <td>40.768</td>\n",
       "      <td>2.000</td>\n",
       "    </tr>\n",
       "    <tr>\n",
       "      <th>max</th>\n",
       "      <td>200.000</td>\n",
       "      <td>40.783</td>\n",
       "      <td>401.083</td>\n",
       "      <td>40.851</td>\n",
       "      <td>43.415</td>\n",
       "      <td>6.000</td>\n",
       "    </tr>\n",
       "  </tbody>\n",
       "</table>\n",
       "</div>"
      ],
      "text/plain": [
       "       fare_amount  pickup_longitude  pickup_latitude  dropoff_longitude  \\\n",
       "count    50000.000         50000.000        50000.000          50000.000   \n",
       "mean        11.364           -72.510           39.934            -72.505   \n",
       "std          9.686            10.394            6.225             10.408   \n",
       "min         -5.000           -75.424          -74.007            -84.654   \n",
       "25%          6.000           -73.992           40.735            -73.991   \n",
       "50%          8.500           -73.982           40.753            -73.980   \n",
       "75%         12.500           -73.967           40.767            -73.964   \n",
       "max        200.000            40.783          401.083             40.851   \n",
       "\n",
       "       dropoff_latitude  passenger_count  \n",
       "count         50000.000        50000.000  \n",
       "mean             39.926            1.668  \n",
       "std               6.015            1.289  \n",
       "min             -74.006            0.000  \n",
       "25%              40.734            1.000  \n",
       "50%              40.753            1.000  \n",
       "75%              40.768            2.000  \n",
       "max              43.415            6.000  "
      ]
     },
     "execution_count": 16,
     "metadata": {},
     "output_type": "execute_result"
    }
   ],
   "source": [
    "data.describe()"
   ]
  },
  {
   "cell_type": "markdown",
   "metadata": {},
   "source": [
    "### Pandas Profiling"
   ]
  },
  {
   "cell_type": "code",
   "execution_count": 17,
   "metadata": {
    "slideshow": {
     "slide_type": "subslide"
    }
   },
   "outputs": [
    {
     "name": "stdout",
     "output_type": "stream",
     "text": [
      "/Users/nkreiling/dev/d2d-jupyterlab\n"
     ]
    }
   ],
   "source": [
    "#pandas_profiling.ProfileReport(data)\n",
    "import os\n",
    "if not 'workbookDir' in globals():\n",
    "    workbookDir = os.getcwd()\n",
    "import pandas_profiling\n",
    "profile = pandas_profiling.ProfileReport(data)\n",
    "print(workbookDir)\n",
    "profile.to_file(outputfile=workbookDir+\"/data_report.html\")"
   ]
  },
  {
   "cell_type": "code",
   "execution_count": 18,
   "metadata": {
    "slideshow": {
     "slide_type": "subslide"
    }
   },
   "outputs": [
    {
     "data": {
      "text/plain": [
       "[]"
      ]
     },
     "execution_count": 18,
     "metadata": {},
     "output_type": "execute_result"
    }
   ],
   "source": [
    "%%! \n",
    "open \"$(pwd)/data_report.html\""
   ]
  },
  {
   "cell_type": "markdown",
   "metadata": {
    "slideshow": {
     "slide_type": "subslide"
    }
   },
   "source": [
    "### View Map Data"
   ]
  },
  {
   "cell_type": "markdown",
   "metadata": {},
   "source": [
    "**Unser Standort**"
   ]
  },
  {
   "cell_type": "code",
   "execution_count": 21,
   "metadata": {},
   "outputs": [
    {
     "data": {
      "application/geo+json": {
       "geometry": {
        "coordinates": [
         8.677636,
         49.404927
        ],
        "type": "Point"
       },
       "type": "Feature"
      },
      "text/plain": [
       "<IPython.display.GeoJSON object>"
      ]
     },
     "metadata": {
      "application/geo+json": {
       "expanded": false
      }
     },
     "output_type": "display_data"
    }
   ],
   "source": [
    "from IPython.display import GeoJSON\n",
    "GeoJSON({\n",
    "    \"type\": \"Feature\",\n",
    "    \"geometry\": {\n",
    "      \"type\": \"Point\",\n",
    "    \"coordinates\": [8.677636, 49.404927]\n",
    "    }\n",
    "})"
   ]
  },
  {
   "cell_type": "code",
   "execution_count": 20,
   "metadata": {
    "slideshow": {
     "slide_type": "subslide"
    }
   },
   "outputs": [
    {
     "data": {
      "application/geo+json": {
       "geometry": {
        "coordinates": [
         [
          -73.981043,
          40.780908000000004
         ],
         [
          -73.970152,
          40.799488000000004
         ]
        ],
        "type": "LineString"
       },
       "type": "Feature"
      },
      "text/plain": [
       "<IPython.display.GeoJSON object>"
      ]
     },
     "metadata": {
      "application/geo+json": {
       "expanded": false
      }
     },
     "output_type": "display_data"
    }
   ],
   "source": [
    "from IPython.display import GeoJSON\n",
    "point = data.sample(1)\n",
    "GeoJSON({\n",
    "    \"type\": \"Feature\",\n",
    "    \"geometry\": {\n",
    "      \"type\": \"LineString\",\n",
    "    \"coordinates\": [\n",
    "        [point.pickup_longitude.values[0], point.pickup_latitude.values[0]],\n",
    "        [point.dropoff_longitude.values[0], point.dropoff_latitude.values[0]]\n",
    "       ]\n",
    "    }\n",
    "})"
   ]
  },
  {
   "cell_type": "markdown",
   "metadata": {},
   "source": [
    "### Bokeh"
   ]
  },
  {
   "cell_type": "markdown",
   "metadata": {},
   "source": [
    "## Great Expectations"
   ]
  },
  {
   "cell_type": "code",
   "execution_count": 22,
   "metadata": {
    "slideshow": {
     "slide_type": "subslide"
    }
   },
   "outputs": [],
   "source": [
    "import great_expectations as ge\n",
    "data = ge.read_csv('input/train.csv', nrows = 50000).drop(columns = 'key')"
   ]
  },
  {
   "cell_type": "code",
   "execution_count": 23,
   "metadata": {},
   "outputs": [
    {
     "data": {
      "text/html": [
       "<div>\n",
       "<style scoped>\n",
       "    .dataframe tbody tr th:only-of-type {\n",
       "        vertical-align: middle;\n",
       "    }\n",
       "\n",
       "    .dataframe tbody tr th {\n",
       "        vertical-align: top;\n",
       "    }\n",
       "\n",
       "    .dataframe thead th {\n",
       "        text-align: right;\n",
       "    }\n",
       "</style>\n",
       "<table border=\"1\" class=\"dataframe\">\n",
       "  <thead>\n",
       "    <tr style=\"text-align: right;\">\n",
       "      <th></th>\n",
       "      <th>fare_amount</th>\n",
       "      <th>pickup_datetime</th>\n",
       "      <th>pickup_longitude</th>\n",
       "      <th>pickup_latitude</th>\n",
       "      <th>dropoff_longitude</th>\n",
       "      <th>dropoff_latitude</th>\n",
       "      <th>passenger_count</th>\n",
       "    </tr>\n",
       "  </thead>\n",
       "  <tbody>\n",
       "    <tr>\n",
       "      <th>0</th>\n",
       "      <td>4.500</td>\n",
       "      <td>2009-06-15 17:26:21 UTC</td>\n",
       "      <td>-73.844</td>\n",
       "      <td>40.721</td>\n",
       "      <td>-73.842</td>\n",
       "      <td>40.712</td>\n",
       "      <td>1</td>\n",
       "    </tr>\n",
       "    <tr>\n",
       "      <th>1</th>\n",
       "      <td>16.900</td>\n",
       "      <td>2010-01-05 16:52:16 UTC</td>\n",
       "      <td>-74.016</td>\n",
       "      <td>40.711</td>\n",
       "      <td>-73.979</td>\n",
       "      <td>40.782</td>\n",
       "      <td>1</td>\n",
       "    </tr>\n",
       "    <tr>\n",
       "      <th>2</th>\n",
       "      <td>5.700</td>\n",
       "      <td>2011-08-18 00:35:00 UTC</td>\n",
       "      <td>-73.983</td>\n",
       "      <td>40.761</td>\n",
       "      <td>-73.991</td>\n",
       "      <td>40.751</td>\n",
       "      <td>2</td>\n",
       "    </tr>\n",
       "    <tr>\n",
       "      <th>3</th>\n",
       "      <td>7.700</td>\n",
       "      <td>2012-04-21 04:30:42 UTC</td>\n",
       "      <td>-73.987</td>\n",
       "      <td>40.733</td>\n",
       "      <td>-73.992</td>\n",
       "      <td>40.758</td>\n",
       "      <td>1</td>\n",
       "    </tr>\n",
       "    <tr>\n",
       "      <th>4</th>\n",
       "      <td>5.300</td>\n",
       "      <td>2010-03-09 07:51:00 UTC</td>\n",
       "      <td>-73.968</td>\n",
       "      <td>40.768</td>\n",
       "      <td>-73.957</td>\n",
       "      <td>40.784</td>\n",
       "      <td>1</td>\n",
       "    </tr>\n",
       "  </tbody>\n",
       "</table>\n",
       "</div>"
      ],
      "text/plain": [
       "   fare_amount          pickup_datetime  pickup_longitude  pickup_latitude  \\\n",
       "0        4.500  2009-06-15 17:26:21 UTC           -73.844           40.721   \n",
       "1       16.900  2010-01-05 16:52:16 UTC           -74.016           40.711   \n",
       "2        5.700  2011-08-18 00:35:00 UTC           -73.983           40.761   \n",
       "3        7.700  2012-04-21 04:30:42 UTC           -73.987           40.733   \n",
       "4        5.300  2010-03-09 07:51:00 UTC           -73.968           40.768   \n",
       "\n",
       "   dropoff_longitude  dropoff_latitude  passenger_count  \n",
       "0            -73.842            40.712                1  \n",
       "1            -73.979            40.782                1  \n",
       "2            -73.991            40.751                2  \n",
       "3            -73.992            40.758                1  \n",
       "4            -73.957            40.784                1  "
      ]
     },
     "execution_count": 23,
     "metadata": {},
     "output_type": "execute_result"
    }
   ],
   "source": [
    "data.head()"
   ]
  },
  {
   "cell_type": "code",
   "execution_count": 24,
   "metadata": {
    "slideshow": {
     "slide_type": "fragment"
    }
   },
   "outputs": [
    {
     "data": {
      "text/plain": [
       "{'success': True,\n",
       " 'result': {'element_count': 50000,\n",
       "  'missing_count': 0,\n",
       "  'missing_percent': 0.0,\n",
       "  'unexpected_count': 0,\n",
       "  'unexpected_percent': 0.0,\n",
       "  'unexpected_percent_nonmissing': 0.0,\n",
       "  'partial_unexpected_list': []}}"
      ]
     },
     "execution_count": 24,
     "metadata": {},
     "output_type": "execute_result"
    }
   ],
   "source": [
    "data.expect_column_values_to_be_of_type(\"fare_amount\",\"float\")"
   ]
  },
  {
   "cell_type": "code",
   "execution_count": 25,
   "metadata": {
    "slideshow": {
     "slide_type": "slide"
    }
   },
   "outputs": [
    {
     "data": {
      "text/plain": [
       "{'success': True,\n",
       " 'result': {'element_count': 50000,\n",
       "  'missing_count': 0,\n",
       "  'missing_percent': 0.0,\n",
       "  'unexpected_count': 0,\n",
       "  'unexpected_percent': 0.0,\n",
       "  'unexpected_percent_nonmissing': 0.0,\n",
       "  'partial_unexpected_list': []}}"
      ]
     },
     "execution_count": 25,
     "metadata": {},
     "output_type": "execute_result"
    }
   ],
   "source": [
    "data.expect_column_values_to_be_of_type(\"fare_amount\",\"float\")"
   ]
  },
  {
   "cell_type": "code",
   "execution_count": 26,
   "metadata": {},
   "outputs": [
    {
     "data": {
      "text/plain": [
       "{'success': False,\n",
       " 'result': {'element_count': 50000,\n",
       "  'missing_count': 0,\n",
       "  'missing_percent': 0.0,\n",
       "  'unexpected_count': 26,\n",
       "  'unexpected_percent': 0.00052,\n",
       "  'unexpected_percent_nonmissing': 0.00052,\n",
       "  'partial_unexpected_list': [180.0,\n",
       "   165.0,\n",
       "   -2.9,\n",
       "   -2.5,\n",
       "   0.01,\n",
       "   128.83,\n",
       "   0.0,\n",
       "   104.67,\n",
       "   -3.0,\n",
       "   108.0,\n",
       "   120.0,\n",
       "   135.0,\n",
       "   110.0,\n",
       "   149.0,\n",
       "   0.0,\n",
       "   200.0,\n",
       "   -2.5,\n",
       "   136.0,\n",
       "   -2.5,\n",
       "   128.61]}}"
      ]
     },
     "execution_count": 26,
     "metadata": {},
     "output_type": "execute_result"
    }
   ],
   "source": [
    "data.expect_column_values_to_be_between(\"fare_amount\",min_value=1,max_value=100)"
   ]
  },
  {
   "cell_type": "markdown",
   "metadata": {},
   "source": [
    "## Model Training"
   ]
  },
  {
   "cell_type": "markdown",
   "metadata": {},
   "source": [
    "### DVC"
   ]
  },
  {
   "cell_type": "markdown",
   "metadata": {},
   "source": [
    "## Ergebnispräsentation"
   ]
  },
  {
   "cell_type": "markdown",
   "metadata": {},
   "source": [
    "### Reveal.js"
   ]
  },
  {
   "cell_type": "markdown",
   "metadata": {},
   "source": [
    "### Binder\n",
    "\n",
    "* Interaktives Bereitstellen von Notebooks via Github Repo\n",
    "* Inklusive Abhängigkeiten und Erweiterungen\n",
    "* [Beispiel-Seite](https://github.com/binder-examples/jupyterlab)"
   ]
  },
  {
   "cell_type": "markdown",
   "metadata": {
    "slideshow": {
     "slide_type": "slide"
    }
   },
   "source": [
    "# Meine Rezension \n",
    "\n",
    "\n",
    "<p>\n",
    "&starf;\n",
    "&starf;\n",
    "&starf;\n",
    "&starf;\n",
    "&starf;\n",
    "&starf;\n",
    "&starf;\n",
    "&starf;\n",
    "&star;\n",
    "(9/10) </p> "
   ]
  },
  {
   "cell_type": "markdown",
   "metadata": {
    "slideshow": {
     "slide_type": "subslide"
    }
   },
   "source": [
    "**lobend hervorzuheben**\n",
    "    * Die neue Oberfläche\n",
    "    * Unterstützung unterschiedlicher Formate\n",
    "    * Plugin-System\n",
    "**weitere Wünsche**\n",
    "    * Mächtigeren Zelleditor\n",
    "    * Kompatiblität mit alten Erweiterungen\n",
    "    * Multi-User Editing"
   ]
  }
 ],
 "metadata": {
  "kernelspec": {
   "display_name": "Python 3",
   "language": "python",
   "name": "python3"
  },
  "language_info": {
   "codemirror_mode": {
    "name": "ipython",
    "version": 3
   },
   "file_extension": ".py",
   "mimetype": "text/x-python",
   "name": "python",
   "nbconvert_exporter": "python",
   "pygments_lexer": "ipython3",
   "version": "3.6.6"
  }
 },
 "nbformat": 4,
 "nbformat_minor": 2
}
