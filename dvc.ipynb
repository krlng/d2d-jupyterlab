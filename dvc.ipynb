{
 "cells": [
  {
   "cell_type": "code",
   "execution_count": 48,
   "metadata": {},
   "outputs": [],
   "source": [
    "%%bash\n",
    "rm -r ./data\n",
    "rm -r ./code"
   ]
  },
  {
   "cell_type": "code",
   "execution_count": 49,
   "metadata": {},
   "outputs": [
    {
     "name": "stderr",
     "output_type": "stream",
     "text": [
      "x code/\n",
      "x code/requirements.txt\n",
      "x code/train_model.py\n",
      "x code/split_train_test.py\n",
      "x code/xml_to_tsv.py\n",
      "x code/evaluate.py\n",
      "x code/featurization.py\n",
      "--2018-09-22 15:27:09--  https://dvc.org/s3/so/25K/Posts.xml.tgz\n",
      "Resolving dvc.org... 52.3.53.115, 52.55.191.55, 52.23.126.223, ...\n",
      "Connecting to dvc.org|52.3.53.115|:443... connected.\n",
      "HTTP request sent, awaiting response... 301 Moved Permanently\n",
      "Location: https://s3-us-west-2.amazonaws.com/dvc-share/so/25K/Posts.xml.tgz [following]\n",
      "--2018-09-22 15:27:10--  https://s3-us-west-2.amazonaws.com/dvc-share/so/25K/Posts.xml.tgz\n",
      "Resolving s3-us-west-2.amazonaws.com... 52.218.209.176\n",
      "Connecting to s3-us-west-2.amazonaws.com|52.218.209.176|:443... connected.\n",
      "HTTP request sent, awaiting response... 200 OK\n",
      "Length: 10576022 (10M) [text/xml]\n",
      "Saving to: ‘data/Posts.xml.tgz’\n",
      "\n",
      "     0K .......... .......... .......... .......... ..........  0%  141K 73s\n",
      "    50K .......... .......... .......... .......... ..........  0%  266K 56s\n",
      "   100K .......... .......... .......... .......... ..........  1% 4.27M 38s\n",
      "   150K .......... .......... .......... .......... ..........  1%  386K 35s\n",
      "   200K .......... .......... .......... .......... ..........  2% 1.11M 29s\n",
      "   250K .......... .......... .......... .......... ..........  2% 5.16M 25s\n",
      "   300K .......... .......... .......... .......... ..........  3% 44.4M 21s\n",
      "   350K .......... .......... .......... .......... ..........  3% 9.00M 18s\n",
      "   400K .......... .......... .......... .......... ..........  4%  299K 20s\n",
      "   450K .......... .......... .......... .......... ..........  4% 22.5M 18s\n",
      "   500K .......... .......... .......... .......... ..........  5% 5.62M 16s\n",
      "   550K .......... .......... .......... .......... ..........  5% 27.4M 15s\n",
      "   600K .......... .......... .......... .......... ..........  6% 17.8M 14s\n",
      "   650K .......... .......... .......... .......... ..........  6%  422K 14s\n",
      "   700K .......... .......... .......... .......... ..........  7% 27.3M 13s\n",
      "   750K .......... .......... .......... .......... ..........  7% 31.4M 12s\n",
      "   800K .......... .......... .......... .......... ..........  8% 1.49M 12s\n",
      "   850K .......... .......... .......... .......... ..........  8% 2.31M 12s\n",
      "   900K .......... .......... .......... .......... ..........  9% 5.58M 11s\n",
      "   950K .......... .......... .......... .......... ..........  9% 17.0M 10s\n",
      "  1000K .......... .......... .......... .......... .......... 10% 40.0M 10s\n",
      "  1050K .......... .......... .......... .......... .......... 10% 53.5M 9s\n",
      "  1100K .......... .......... .......... .......... .......... 11% 52.6M 9s\n",
      "  1150K .......... .......... .......... .......... .......... 11% 14.4M 9s\n",
      "  1200K .......... .......... .......... .......... .......... 12% 13.3M 8s\n",
      "  1250K .......... .......... .......... .......... .......... 12% 16.1M 8s\n",
      "  1300K .......... .......... .......... .......... .......... 13%  466K 8s\n",
      "  1350K .......... .......... .......... .......... .......... 13% 5.15M 8s\n",
      "  1400K .......... .......... .......... .......... .......... 14% 5.69M 8s\n",
      "  1450K .......... .......... .......... .......... .......... 14% 19.6M 7s\n",
      "  1500K .......... .......... .......... .......... .......... 15% 51.0M 7s\n",
      "  1550K .......... .......... .......... .......... .......... 15% 44.2M 7s\n",
      "  1600K .......... .......... .......... .......... .......... 15% 20.3M 7s\n",
      "  1650K .......... .......... .......... .......... .......... 16% 14.2M 6s\n",
      "  1700K .......... .......... .......... .......... .......... 16% 2.19M 6s\n",
      "  1750K .......... .......... .......... .......... .......... 17% 1.72M 6s\n",
      "  1800K .......... .......... .......... .......... .......... 17% 3.92M 6s\n",
      "  1850K .......... .......... .......... .......... .......... 18% 7.01M 6s\n",
      "  1900K .......... .......... .......... .......... .......... 18% 26.4M 6s\n",
      "  1950K .......... .......... .......... .......... .......... 19% 26.0M 6s\n",
      "  2000K .......... .......... .......... .......... .......... 19% 48.0M 5s\n",
      "  2050K .......... .......... .......... .......... .......... 20% 16.3M 5s\n",
      "  2100K .......... .......... .......... .......... .......... 20% 14.8M 5s\n",
      "  2150K .......... .......... .......... .......... .......... 21% 18.0M 5s\n",
      "  2200K .......... .......... .......... .......... .......... 21% 15.5M 5s\n",
      "  2250K .......... .......... .......... .......... .......... 22% 15.1M 5s\n",
      "  2300K .......... .......... .......... .......... .......... 22% 14.2M 5s\n",
      "  2350K .......... .......... .......... .......... .......... 23%  688K 5s\n",
      "  2400K .......... .......... .......... .......... .......... 23% 6.53M 5s\n",
      "  2450K .......... .......... .......... .......... .......... 24% 18.8M 5s\n",
      "  2500K .......... .......... .......... .......... .......... 24% 30.2M 4s\n",
      "  2550K .......... .......... .......... .......... .......... 25% 18.1M 4s\n",
      "  2600K .......... .......... .......... .......... .......... 25% 54.5M 4s\n",
      "  2650K .......... .......... .......... .......... .......... 26% 19.2M 4s\n",
      "  2700K .......... .......... .......... .......... .......... 26% 8.11M 4s\n",
      "  2750K .......... .......... .......... .......... .......... 27% 1.15M 4s\n",
      "  2800K .......... .......... .......... .......... .......... 27% 4.68M 4s\n",
      "  2850K .......... .......... .......... .......... .......... 28% 4.53M 4s\n",
      "  2900K .......... .......... .......... .......... .......... 28% 23.1M 4s\n",
      "  2950K .......... .......... .......... .......... .......... 29% 10.6M 4s\n",
      "  3000K .......... .......... .......... .......... .......... 29% 14.5M 4s\n",
      "  3050K .......... .......... .......... .......... .......... 30%  132M 4s\n",
      "  3100K .......... .......... .......... .......... .......... 30% 27.3M 3s\n",
      "  3150K .......... .......... .......... .......... .......... 30% 3.86M 3s\n",
      "  3200K .......... .......... .......... .......... .......... 31% 7.52M 3s\n",
      "  3250K .......... .......... .......... .......... .......... 31% 84.2M 3s\n",
      "  3300K .......... .......... .......... .......... .......... 32% 38.9M 3s\n",
      "  3350K .......... .......... .......... .......... .......... 32%  872K 3s\n",
      "  3400K .......... .......... .......... .......... .......... 33% 5.04M 3s\n",
      "  3450K .......... .......... .......... .......... .......... 33% 7.46M 3s\n",
      "  3500K .......... .......... .......... .......... .......... 34% 28.0M 3s\n",
      "  3550K .......... .......... .......... .......... .......... 34% 12.9M 3s\n",
      "  3600K .......... .......... .......... .......... .......... 35% 35.1M 3s\n",
      "  3650K .......... .......... .......... .......... .......... 35% 5.82M 3s\n",
      "  3700K .......... .......... .......... .......... .......... 36% 8.50M 3s\n",
      "  3750K .......... .......... .......... .......... .......... 36% 1.90M 3s\n",
      "  3800K .......... .......... .......... .......... .......... 37% 3.99M 3s\n",
      "  3850K .......... .......... .......... .......... .......... 37% 2.40M 3s\n",
      "  3900K .......... .......... .......... .......... .......... 38% 7.39M 3s\n",
      "  3950K .......... .......... .......... .......... .......... 38% 19.4M 3s\n",
      "  4000K .......... .......... .......... .......... .......... 39% 96.7M 3s\n",
      "  4050K .......... .......... .......... .......... .......... 39% 21.1M 3s\n",
      "  4100K .......... .......... .......... .......... .......... 40% 16.5M 3s\n",
      "  4150K .......... .......... .......... .......... .......... 40% 8.71M 3s\n",
      "  4200K .......... .......... .......... .......... .......... 41% 5.77M 2s\n",
      "  4250K .......... .......... .......... .......... .......... 41% 5.75M 2s\n",
      "  4300K .......... .......... .......... .......... .......... 42% 5.96M 2s\n",
      "  4350K .......... .......... .......... .......... .......... 42% 1.13M 2s\n",
      "  4400K .......... .......... .......... .......... .......... 43% 7.97M 2s\n",
      "  4450K .......... .......... .......... .......... .......... 43% 4.67M 2s\n",
      "  4500K .......... .......... .......... .......... .......... 44% 22.9M 2s\n",
      "  4550K .......... .......... .......... .......... .......... 44% 12.5M 2s\n",
      "  4600K .......... .......... .......... .......... .......... 45% 18.4M 2s\n",
      "  4650K .......... .......... .......... .......... .......... 45%  104M 2s\n",
      "  4700K .......... .......... .......... .......... .......... 45% 2.82M 2s\n",
      "  4750K .......... .......... .......... .......... .......... 46% 2.51M 2s\n",
      "  4800K .......... .......... .......... .......... .......... 46% 2.69M 2s\n",
      "  4850K .......... .......... .......... .......... .......... 47% 4.45M 2s\n",
      "  4900K .......... .......... .......... .......... .......... 47% 3.91M 2s\n",
      "  4950K .......... .......... .......... .......... .......... 48% 8.07M 2s\n",
      "  5000K .......... .......... .......... .......... .......... 48% 22.8M 2s\n",
      "  5050K .......... .......... .......... .......... .......... 49% 97.5M 2s\n",
      "  5100K .......... .......... .......... .......... .......... 49% 41.8M 2s\n",
      "  5150K .......... .......... .......... .......... .......... 50% 11.5M 2s\n",
      "  5200K .......... .......... .......... .......... .......... 50% 8.19M 2s\n",
      "  5250K .......... .......... .......... .......... .......... 51% 5.16M 2s\n",
      "  5300K .......... .......... .......... .......... .......... 51% 6.30M 2s\n",
      "  5350K .......... .......... .......... .......... .......... 52% 1.24M 2s\n",
      "  5400K .......... .......... .......... .......... .......... 52% 13.8M 2s\n",
      "  5450K .......... .......... .......... .......... .......... 53% 5.97M 2s\n",
      "  5500K .......... .......... .......... .......... .......... 53% 4.82M 2s\n",
      "  5550K .......... .......... .......... .......... .......... 54% 13.3M 2s\n",
      "  5600K .......... .......... .......... .......... .......... 54% 8.86M 2s\n",
      "  5650K .......... .......... .......... .......... .......... 55% 46.1M 2s\n",
      "  5700K .......... .......... .......... .......... .......... 55% 4.07M 2s\n",
      "  5750K .......... .......... .......... .......... .......... 56% 2.75M 2s\n",
      "  5800K .......... .......... .......... .......... .......... 56% 2.77M 2s\n",
      "  5850K .......... .......... .......... .......... .......... 57% 6.37M 2s\n",
      "  5900K .......... .......... .......... .......... .......... 57% 2.18M 2s\n",
      "  5950K .......... .......... .......... .......... .......... 58% 7.80M 2s\n",
      "  6000K .......... .......... .......... .......... .......... 58% 4.91M 1s\n",
      "  6050K .......... .......... .......... .......... .......... 59% 30.0M 1s\n",
      "  6100K .......... .......... .......... .......... .......... 59% 30.3M 1s\n",
      "  6150K .......... .......... .......... .......... .......... 60% 41.8M 1s\n",
      "  6200K .......... .......... .......... .......... .......... 60% 13.4M 1s\n",
      "  6250K .......... .......... .......... .......... .......... 60% 28.7M 1s\n",
      "  6300K .......... .......... .......... .......... .......... 61% 3.44M 1s\n",
      "  6350K .......... .......... .......... .......... .......... 61% 1.62M 1s\n",
      "  6400K .......... .......... .......... .......... .......... 62% 2.80M 1s\n",
      "  6450K .......... .......... .......... .......... .......... 62% 54.3M 1s\n",
      "  6500K .......... .......... .......... .......... .......... 63% 10.2M 1s\n",
      "  6550K .......... .......... .......... .......... .......... 63% 7.72M 1s\n",
      "  6600K .......... .......... .......... .......... .......... 64% 11.0M 1s\n",
      "  6650K .......... .......... .......... .......... .......... 64% 13.2M 1s\n",
      "  6700K .......... .......... .......... .......... .......... 65% 16.3M 1s\n",
      "  6750K .......... .......... .......... .......... .......... 65% 1.96M 1s\n",
      "  6800K .......... .......... .......... .......... .......... 66% 3.00M 1s\n",
      "  6850K .......... .......... .......... .......... .......... 66% 4.54M 1s\n",
      "  6900K .......... .......... .......... .......... .......... 67% 2.42M 1s\n",
      "  6950K .......... .......... .......... .......... .......... 67% 8.60M 1s\n",
      "  7000K .......... .......... .......... .......... .......... 68% 4.47M 1s\n",
      "  7050K .......... .......... .......... .......... .......... 68% 12.0M 1s\n",
      "  7100K .......... .......... .......... .......... .......... 69% 17.1M 1s\n",
      "  7150K .......... .......... .......... .......... .......... 69% 14.6M 1s\n",
      "  7200K .......... .......... .......... .......... .......... 70% 27.1M 1s\n",
      "  7250K .......... .......... .......... .......... .......... 70% 36.6M 1s\n",
      "  7300K .......... .......... .......... .......... .......... 71% 5.68M 1s\n",
      "  7350K .......... .......... .......... .......... .......... 71% 2.64M 1s\n",
      "  7400K .......... .......... .......... .......... .......... 72% 1.46M 1s\n",
      "  7450K .......... .......... .......... .......... .......... 72% 19.1M 1s\n",
      "  7500K .......... .......... .......... .......... .......... 73% 39.3M 1s\n",
      "  7550K .......... .......... .......... .......... .......... 73% 2.95M 1s\n",
      "  7600K .......... .......... .......... .......... .......... 74% 8.04M 1s\n",
      "  7650K .......... .......... .......... .......... .......... 74% 25.0M 1s\n",
      "  7700K .......... .......... .......... .......... .......... 75% 34.6M 1s\n",
      "  7750K .......... .......... .......... .......... .......... 75% 5.78M 1s\n",
      "  7800K .......... .......... .......... .......... .......... 76% 4.74M 1s\n",
      "  7850K .......... .......... .......... .......... .......... 76% 2.23M 1s\n",
      "  7900K .......... .......... .......... .......... .......... 76% 4.20M 1s\n",
      "  7950K .......... .......... .......... .......... .......... 77% 2.64M 1s\n",
      "  8000K .......... .......... .......... .......... .......... 77% 5.64M 1s\n",
      "  8050K .......... .......... .......... .......... .......... 78% 10.6M 1s\n",
      "  8100K .......... .......... .......... .......... .......... 78% 8.45M 1s\n",
      "  8150K .......... .......... .......... .......... .......... 79% 23.3M 1s\n",
      "  8200K .......... .......... .......... .......... .......... 79% 13.6M 1s\n",
      "  8250K .......... .......... .......... .......... .......... 80% 14.8M 1s\n",
      "  8300K .......... .......... .......... .......... .......... 80% 21.8M 1s\n",
      "  8350K .......... .......... .......... .......... .......... 81% 1.04M 1s\n",
      "  8400K .......... .......... .......... .......... .......... 81% 8.27M 1s\n",
      "  8450K .......... .......... .......... .......... .......... 82% 31.6M 1s\n",
      "  8500K .......... .......... .......... .......... .......... 82% 9.21M 1s\n",
      "  8550K .......... .......... .......... .......... .......... 83% 4.03M 1s\n",
      "  8600K .......... .......... .......... .......... .......... 83% 7.70M 0s\n",
      "  8650K .......... .......... .......... .......... .......... 84% 4.00M 0s\n",
      "  8700K .......... .......... .......... .......... .......... 84% 16.6M 0s\n",
      "  8750K .......... .......... .......... .......... .......... 85% 8.41M 0s\n",
      "  8800K .......... .......... .......... .......... .......... 85% 1.92M 0s\n",
      "  8850K .......... .......... .......... .......... .......... 86% 10.6M 0s\n",
      "  8900K .......... .......... .......... .......... .......... 86% 7.57M 0s\n",
      "  8950K .......... .......... .......... .......... .......... 87% 1.43M 0s\n",
      "  9000K .......... .......... .......... .......... .......... 87% 16.7M 0s\n",
      "  9050K .......... .......... .......... .......... .......... 88% 4.19M 0s\n",
      "  9100K .......... .......... .......... .......... .......... 88% 33.3M 0s\n",
      "  9150K .......... .......... .......... .......... .......... 89% 26.8M 0s\n",
      "  9200K .......... .......... .......... .......... .......... 89% 42.9M 0s\n",
      "  9250K .......... .......... .......... .......... .......... 90% 13.0M 0s\n",
      "  9300K .......... .......... .......... .......... .......... 90% 12.7M 0s\n",
      "  9350K .......... .......... .......... .......... .......... 91% 1.79M 0s\n",
      "  9400K .......... .......... .......... .......... .......... 91% 2.60M 0s\n",
      "  9450K .......... .......... .......... .......... .......... 91% 6.62M 0s\n",
      "  9500K .......... .......... .......... .......... .......... 92% 17.0M 0s\n",
      "  9550K .......... .......... .......... .......... .......... 92% 20.1M 0s\n",
      "  9600K .......... .......... .......... .......... .......... 93% 2.92M 0s\n",
      "  9650K .......... .......... .......... .......... .......... 93% 11.0M 0s\n",
      "  9700K .......... .......... .......... .......... .......... 94% 24.2M 0s\n",
      "  9750K .......... .......... .......... .......... .......... 94% 4.46M 0s\n",
      "  9800K .......... .......... .......... .......... .......... 95% 4.08M 0s\n",
      "  9850K .......... .......... .......... .......... .......... 95% 2.53M 0s\n",
      "  9900K .......... .......... .......... .......... .......... 96% 26.8M 0s\n",
      "  9950K .......... .......... .......... .......... .......... 96% 1.84M 0s\n",
      " 10000K .......... .......... .......... .......... .......... 97% 2.36M 0s\n",
      " 10050K .......... .......... .......... .......... .......... 97% 3.38M 0s\n",
      " 10100K .......... .......... .......... .......... .......... 98% 28.9M 0s\n",
      " 10150K .......... .......... .......... .......... .......... 98% 25.7M 0s\n",
      " 10200K .......... .......... .......... .......... .......... 99% 26.7M 0s\n",
      " 10250K .......... .......... .......... .......... .......... 99% 53.1M 0s\n",
      " 10300K .......... .......... ........                        100% 19.6M=2.9s\n",
      "\n",
      "2018-09-22 15:27:14 (3.50 MB/s) - ‘data/Posts.xml.tgz’ saved [10576022/10576022]\n",
      "\n"
     ]
    }
   ],
   "source": [
    "%%bash\n",
    "wget -s -q -O - https://dvc.org/s3/examples/so/code.tgz | tar -xzvf -\n",
    "mkdir -p data\n",
    "wget -s -P data https://dvc.org/s3/so/25K/Posts.xml.tgz\n",
    "mkdir -p svc"
   ]
  },
  {
   "cell_type": "code",
   "execution_count": 50,
   "metadata": {},
   "outputs": [
    {
     "name": "stdout",
     "output_type": "stream",
     "text": [
      "\u001b[31mError: \u001b[0mFailed to initiate dvc: '.dvc' exists. Use '-f' to force.\n",
      "\u001b[0m"
     ]
    }
   ],
   "source": [
    "! dvc init    "
   ]
  },
  {
   "cell_type": "code",
   "execution_count": 51,
   "metadata": {},
   "outputs": [
    {
     "name": "stdout",
     "output_type": "stream",
     "text": [
      "Adding 'data/Posts.xml.tgz' to 'data/.gitignore'.\n",
      "Saving 'data/Posts.xml.tgz' to cache '.dvc/cache'.\n",
      "Created 'reflink': .dvc/cache/2f/412200dc53fb97dcac0353b609d199 -> data/Posts.xml.tgz\n",
      "Saving information to 'data/Posts.xml.tgz.dvc'.\n",
      "\u001b[0m"
     ]
    }
   ],
   "source": [
    "! dvc add dev/data/Posts.xml.tgz"
   ]
  },
  {
   "cell_type": "code",
   "execution_count": 64,
   "metadata": {},
   "outputs": [
    {
     "name": "stdout",
     "output_type": "stream",
     "text": [
      "Running command:\n",
      "\ttar -xvf data/Posts.xml.tgz -C data\n",
      "Saving 'data/Posts.xml' to cache '.dvc/cache'.\n",
      "Created 'reflink': .dvc/cache/a3/04afb96060aad90176268345e10355 -> data/Posts.xml\n",
      "Saving information to 'dvc/extract.dvc'.\n"
     ]
    },
    {
     "name": "stderr",
     "output_type": "stream",
     "text": [
      "x Posts.xml\n"
     ]
    }
   ],
   "source": [
    "%%bash\n",
    "dvc run -d dev/data/Posts.xml.tgz \\\n",
    "              -o dev/data/Posts.xml \\\n",
    "              -f dvc/extract.dvc \\\n",
    "              tar -xvf data/Posts.xml.tgz -C data"
   ]
  },
  {
   "cell_type": "code",
   "execution_count": 65,
   "metadata": {},
   "outputs": [
    {
     "name": "stdout",
     "output_type": "stream",
     "text": [
      "Running command:\n",
      "\tpython code/xml_to_tsv.py data/Posts.xml data/Posts.tsv\n",
      "Saving 'data/Posts.tsv' to cache '.dvc/cache'.\n",
      "Created 'reflink': .dvc/cache/66/5f20ef829fc3664eff4d71952d5b87 -> data/Posts.tsv\n",
      "Saving information to 'dvc/prepare.dvc'.\n"
     ]
    }
   ],
   "source": [
    "%%bash\n",
    "dvc run -d code/xml_to_tsv.py -d data/Posts.xml \\\n",
    "              -o data/Posts.tsv \\\n",
    "              -f dvc/prepare.dvc \\\n",
    "              python code/xml_to_tsv.py data/Posts.xml data/Posts.tsv"
   ]
  },
  {
   "cell_type": "code",
   "execution_count": 66,
   "metadata": {},
   "outputs": [
    {
     "name": "stdout",
     "output_type": "stream",
     "text": [
      "Overwriting code/split_train_test.py\n"
     ]
    }
   ],
   "source": [
    "%%writefile code/split_train_test.py\n",
    "import sys\n",
    "import pandas as pd\n",
    "from sklearn.model_selection import train_test_split\n",
    "\n",
    "try:  # python2\n",
    "    reload(sys)\n",
    "    sys.setdefaultencoding('utf-8')\n",
    "except NameError:\n",
    "    pass\n",
    "\n",
    "\n",
    "def usage(msg):\n",
    "    if msg:\n",
    "        sys.stderr.write('{}\\n\\n'.format(msg))\n",
    "    sys.stderr.write('python split_train_test.py data ratio seed train test\\n\\n')\n",
    "    sys.stderr.write('\\tdata \\t input data set to split.\\n')\n",
    "    sys.stderr.write('\\tratio \\t train set ratio (double). Example: 0.3\\n')\n",
    "    sys.stderr.write('\\tseed \\t random state (integer). Example: 20170423\\n')\n",
    "    sys.stderr.write('\\ttrain \\t train dataset output.\\n')\n",
    "    sys.stderr.write('\\ttest \\t test dataset output.\\n')\n",
    "    sys.exit(1)\n",
    "\n",
    "\n",
    "if len(sys.argv) != 6:\n",
    "    usage('Wrong number of arguments. Usage:')\n",
    "\n",
    "\n",
    "input = sys.argv[1]\n",
    "test_ratio = float(sys.argv[2])\n",
    "seed = int(sys.argv[3])\n",
    "train = sys.argv[4]\n",
    "test = sys.argv[5]\n",
    "\n",
    "df = pd.read_csv(\n",
    "    input,\n",
    "    encoding='utf-8',\n",
    "    header=None,\n",
    "    delimiter='\\t',\n",
    "    names=['id', 'label', 'text']\n",
    ")\n",
    "\n",
    "df_positive = df[df['label'] == 1]\n",
    "df_negative = df[df['label'] == 0]\n",
    "\n",
    "sys.stderr.write('Positive size {}, negative size {}\\n'.format(\n",
    "    df_positive.shape[0],\n",
    "    df_negative.shape[0]\n",
    "))\n",
    "\n",
    "\n",
    "def sub_df_by_ids(df, ids):\n",
    "    df_train_order = pd.DataFrame(data={'id': ids})\n",
    "    return df.merge(df_train_order, on='id')\n",
    "\n",
    "\n",
    "def train_test_split_df(df, ids, test_ratio, seed):\n",
    "    train_ids, test_ids = train_test_split(ids, test_size=test_ratio, random_state=seed)\n",
    "    return sub_df_by_ids(df, train_ids), sub_df_by_ids(df, test_ids)\n",
    "\n",
    "\n",
    "df_pos_train, df_pos_test = train_test_split_df(df, df_positive.id, test_ratio, seed)\n",
    "df_neg_train, df_neg_test = train_test_split_df(df, df_negative.id, test_ratio, seed)\n",
    "\n",
    "df_train = pd.concat([df_pos_train, df_neg_train])\n",
    "df_test = pd.concat([df_pos_test, df_neg_test])\n",
    "\n",
    "df_train.to_csv(train, sep='\\t', header=False, index=False)\n",
    "df_test.to_csv(test, sep='\\t', header=False, index=False)"
   ]
  },
  {
   "cell_type": "code",
   "execution_count": 67,
   "metadata": {},
   "outputs": [
    {
     "name": "stdout",
     "output_type": "stream",
     "text": [
      "Running command:\n",
      "\tpython code/split_train_test.py data/Posts.tsv 0.2 20170426 data/Posts-train.tsv data/Posts-test.tsv\n",
      "Saving 'data/Posts-train.tsv' to cache '.dvc/cache'.\n",
      "Created 'reflink': .dvc/cache/99/16619870195e5b5363931b4fdc551c -> data/Posts-train.tsv\n",
      "Saving 'data/Posts-test.tsv' to cache '.dvc/cache'.\n",
      "Created 'reflink': .dvc/cache/df/96975a3e98890294f4ab248784aa5c -> data/Posts-test.tsv\n",
      "Saving information to 'dvc/split.dvc'.\n"
     ]
    },
    {
     "name": "stderr",
     "output_type": "stream",
     "text": [
      "Positive size 492, negative size 24508\n"
     ]
    }
   ],
   "source": [
    "%%bash \n",
    "dvc run -d code/split_train_test.py -d data/Posts.tsv \\\n",
    "              -o data/Posts-train.tsv -o data/Posts-test.tsv \\\n",
    "              -f dvc/split.dvc \\\n",
    "              python code/split_train_test.py data/Posts.tsv 0.2 20170426 \\\n",
    "                                              data/Posts-train.tsv data/Posts-test.tsv"
   ]
  },
  {
   "cell_type": "code",
   "execution_count": 68,
   "metadata": {},
   "outputs": [
    {
     "name": "stdout",
     "output_type": "stream",
     "text": [
      "Running command:\n",
      "\tpython code/featurization.py data/Posts-train.tsv data/Posts-test.tsv data/matrix-train.pkl data/matrix-test.pkl\n",
      "Saving 'data/matrix-train.pkl' to cache '.dvc/cache'.\n",
      "Created 'reflink': .dvc/cache/a3/820b22697b93f080eb9090c55da651 -> data/matrix-train.pkl\n",
      "Saving 'data/matrix-test.pkl' to cache '.dvc/cache'.\n",
      "Created 'reflink': .dvc/cache/2e/3d1a7d1e540cd3e6325a86f3cf8ff5 -> data/matrix-test.pkl\n",
      "Saving information to 'dvc/featurize.dvc'.\n"
     ]
    },
    {
     "name": "stderr",
     "output_type": "stream",
     "text": [
      "The input data frame data/Posts-train.tsv size is (19999, 3)\n",
      "The output matrix data/matrix-train.pkl size is (19999, 5002) and data type is float64\n",
      "The input data frame data/Posts-test.tsv size is (5001, 3)\n",
      "The output matrix data/matrix-test.pkl size is (5001, 5002) and data type is float64\n"
     ]
    }
   ],
   "source": [
    "%%bash\n",
    "dvc run -d code/featurization.py -d data/Posts-train.tsv -d data/Posts-test.tsv \\\n",
    "              -o data/matrix-train.pkl -o data/matrix-test.pkl \\\n",
    "              -f dvc/featurize.dvc \\\n",
    "              python code/featurization.py data/Posts-train.tsv data/Posts-test.tsv \\\n",
    "                                           data/matrix-train.pkl data/matrix-test.pkl"
   ]
  },
  {
   "cell_type": "code",
   "execution_count": 69,
   "metadata": {},
   "outputs": [
    {
     "name": "stdout",
     "output_type": "stream",
     "text": [
      "Running command:\n",
      "\tpython code/train_model.py data/matrix-train.pkl 20170426 data/model.pkl\n",
      "Saving 'data/model.pkl' to cache '.dvc/cache'.\n",
      "Created 'reflink': .dvc/cache/ab/4cfa4c28b121d1a9b3dbb33715dcaf -> data/model.pkl\n",
      "Saving information to 'dvc/train.dvc'.\n"
     ]
    },
    {
     "name": "stderr",
     "output_type": "stream",
     "text": [
      "Input matrix size (19999, 5002)\n",
      "X matrix size (19999, 5000)\n",
      "Y matrix size (19999,)\n"
     ]
    }
   ],
   "source": [
    "%%bash\n",
    "dvc run -d code/train_model.py -d data/matrix-train.pkl \\\n",
    "              -o data/model.pkl \\\n",
    "              -f dvc/train.dvc \\\n",
    "              python code/train_model.py data/matrix-train.pkl 20170426 data/model.pkl"
   ]
  },
  {
   "cell_type": "code",
   "execution_count": 70,
   "metadata": {},
   "outputs": [
    {
     "name": "stdout",
     "output_type": "stream",
     "text": [
      "Running command:\n",
      "\tpython code/evaluate.py data/model.pkl data/matrix-test.pkl auc.metric\n",
      "Saving information to 'dvc/evaluate.dvc'.\n"
     ]
    }
   ],
   "source": [
    "%%bash\n",
    "dvc run -d code/evaluate.py -d data/model.pkl -d data/matrix-test.pkl \\\n",
    "              -M auc.metric \\\n",
    "              -f dvc/evaluate.dvc \\\n",
    "              python code/evaluate.py data/model.pkl data/matrix-test.pkl auc.metric"
   ]
  },
  {
   "cell_type": "code",
   "execution_count": 75,
   "metadata": {},
   "outputs": [
    {
     "name": "stdout",
     "output_type": "stream",
     "text": [
      "\u001b[31mError: \u001b[0mFailed to show metrics: No metric files in this repository. Use 'dvc metrics add' to add a metric file to track.\n",
      "\u001b[0m"
     ]
    }
   ],
   "source": [
    "! dvc metrics show -a"
   ]
  },
  {
   "cell_type": "code",
   "execution_count": 72,
   "metadata": {},
   "outputs": [
    {
     "name": "stdout",
     "output_type": "stream",
     "text": [
      "README.md\n",
      "Talk.ipynb\n",
      "auc.metric\n",
      "binder\n",
      "bokeh.ipynb\n",
      "code\n",
      "data\n",
      "dvc\n",
      "dvc.ipynb\n",
      "geojson-extension.geojson\n",
      "img\n",
      "imports.py\n",
      "index.ipynb\n",
      "input\n",
      "output\n"
     ]
    }
   ],
   "source": [
    "%%bash\n",
    "ls"
   ]
  },
  {
   "cell_type": "code",
   "execution_count": 82,
   "metadata": {},
   "outputs": [
    {
     "name": "stdout",
     "output_type": "stream",
     "text": [
      "Reproducing 'dvc/extract.dvc'\n",
      "Running command:\n",
      "\ttar -xvf data/Posts.xml.tgz -C data\n",
      "tar: Error opening archive: Failed to open 'data/Posts.xml.tgz'\n",
      "\u001b[31mError: \u001b[0mFailed to reproduce 'dvc/evaluate.dvc': Failed to reproduce 'dvc/extract.dvc': Stage 'dvc/extract.dvc' cmd tar -xvf data/Posts.xml.tgz -C data failed\n",
      "\u001b[0m"
     ]
    }
   ],
   "source": [
    "!dvc repro -m dvc/evaluate.dvc"
   ]
  },
  {
   "cell_type": "code",
   "execution_count": 81,
   "metadata": {},
   "outputs": [
    {
     "name": "stdout",
     "output_type": "stream",
     "text": [
      "dvc/extract.dvc\n",
      "dvc/prepare.dvc\n",
      "dvc/split.dvc\n",
      "dvc/featurize.dvc\n",
      "dvc/train.dvc\n",
      "dvc/evaluate.dvc\n",
      "\u001b[0m"
     ]
    }
   ],
   "source": [
    "!dvc pipeline show dvc/evaluate.dvc"
   ]
  },
  {
   "cell_type": "code",
   "execution_count": null,
   "metadata": {},
   "outputs": [],
   "source": []
  }
 ],
 "metadata": {
  "kernelspec": {
   "display_name": "Python 3",
   "language": "python",
   "name": "python3"
  },
  "language_info": {
   "codemirror_mode": {
    "name": "ipython",
    "version": 3
   },
   "file_extension": ".py",
   "mimetype": "text/x-python",
   "name": "python",
   "nbconvert_exporter": "python",
   "pygments_lexer": "ipython3",
   "version": "3.6.6"
  }
 },
 "nbformat": 4,
 "nbformat_minor": 2
}
